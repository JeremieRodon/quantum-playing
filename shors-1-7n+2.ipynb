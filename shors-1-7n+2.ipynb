{
 "cells": [
  {
   "cell_type": "markdown",
   "id": "3977c355",
   "metadata": {},
   "source": [
    "# Import important stuff\n"
   ]
  },
  {
   "cell_type": "code",
   "execution_count": 1,
   "id": "d0028d71",
   "metadata": {},
   "outputs": [],
   "source": [
    "# Who does not need math in his life?\n",
    "import math\n",
    "\n",
    "# Phases will be returned as floats and we want factions!\n",
    "from fractions import Fraction\n",
    "\n",
    "# The infamous numpy module, with C-compiled code for quick maths\n",
    "import numpy as np\n",
    "\n",
    "# Braket SDK v1.61.0\n",
    "# Circuits !\n",
    "from braket.circuits import Circuit, circuit\n",
    "# Qubits !\n",
    "from braket.circuits.qubit_set import QubitSetInput, QubitSet\n",
    "from braket.circuits.qubit import Qubit\n",
    "\n",
    "# Devices !\n",
    "from braket.devices import Device, LocalSimulator   # Local simulator\n",
    "local_simulator = LocalSimulator()\n",
    "from braket.aws import AwsDevice    # AWS simulators/QPU\n",
    "\n",
    "# Devices return results (hopefully !) containing a Counter\n",
    "from collections import Counter\n",
    "\n",
    "# Functions are commented with a clear input/output typing to help you\n",
    "from typing import Any, Dict, List, Optional\n",
    "# We will choose `a` as random to run Shor's algorithm (1 < a < N)\n",
    "from random import randint, sample\n",
    "# If we need to wait for the Device to finish a simulation, better sleep a little\n",
    "from time import sleep\n",
    "# For log displays\n",
    "from datetime import datetime\n",
    "\n",
    "# Little function that efficiently compute the bit-size of an integer\n",
    "def bit_size_of(integer_N):\n",
    "    s = 0\n",
    "    while integer_N > 0:\n",
    "        integer_N = integer_N // 2\n",
    "        s += 1\n",
    "    return s\n",
    "\n",
    "# Qiskit produces nice images of quantum circuits\n",
    "# We want to do them from Braket circuits\n",
    "from braket.circuits.serialization import IRType\n",
    "import qiskit.qasm3\n",
    "def braket_to_qiskit_circuit(braket_circuit, without_measurements = False):\n",
    "    # Produce QASM3 string\n",
    "    qasm_str = braket_circuit.to_ir(IRType.OPENQASM).source\n",
    "    # Split lines\n",
    "    qasm_str_lines = qasm_str.split('\\n')\n",
    "    # Include the stdgates.inc\n",
    "    qasm_str_lines.insert(1, 'include \"stdgates.inc\";')\n",
    "    # Index of the first measurement\n",
    "    index_of_first_measure = qasm_str_lines.index(\"b[0] = measure q[0];\")\n",
    "    \n",
    "    if without_measurements:\n",
    "        # Remove instructions relative to classical bits and measures\n",
    "        qasm_str_lines = qasm_str_lines[:index_of_first_measure]\n",
    "        qasm_str_lines.remove(f\"bit[{braket_circuit.qubit_count}] b;\")\n",
    "    else:\n",
    "        # Include a barrier to separate measurements\n",
    "        qasm_str_lines.insert(index_of_first_measure, f'barrier;')\n",
    "    \n",
    "    # Regroup lines\n",
    "    qasm_str = '\\n'.join(qasm_str_lines)\n",
    "    # Replace Braket gate names with std ones\n",
    "    qasm_str = qasm_str.replace(\"cphaseshift\", \"cphase\").replace(\"phaseshift\", \"phase\").replace(\"cnot\", \"cx\")\n",
    "    # Create the Qiskit circuit\n",
    "    return qiskit.qasm3.loads(qasm_str)"
   ]
  },
  {
   "cell_type": "markdown",
   "id": "d0ac176b",
   "metadata": {},
   "source": [
    "# Create the QFT circuit\n",
    "The Quantum Fourier Transform is the well-known circuit allowing to change a state vector from the computational basis to the Fourier basis.\n",
    "In Shor's algorithm, we use the modular exponentiation controlled by a register `reg_x`. There is a \"phase kickback effect\" that will inprint the phase of the modular exponentiation into `reg_x` \"written\" in the Fourrier basis. We use QFT-dagger to transform that in the computational basis, so that we can measure it."
   ]
  },
  {
   "cell_type": "code",
   "execution_count": 2,
   "id": "0b144827",
   "metadata": {},
   "outputs": [],
   "source": [
    "# Compared to implementations found on the Internet, this one is different because my convention is to\n",
    "# encode number in little endian\n",
    "# So for example, if a registry contains 4 qubits q0, q1, q2 and q3:\n",
    "# 1 => q0=1, q1=0, q2=0, q3=0\n",
    "# 2 => q0=0, q1=1, q2=0, q3=0\n",
    "# 4 => q0=0, q1=0, q2=1, q3=0\n",
    "# 8 => q0=0, q1=0, q2=0, q3=1\n",
    "# 7 => q0=1, q1=1, q2=1, q3=0\n",
    "# Most implementation on the Internet use a BigEndian encoding (I'm not sure why) and it changes things for QFT\n",
    "@circuit.subroutine(register=True)\n",
    "def qft(\n",
    "    qubits: QubitSetInput,\n",
    "    reverse: Optional[bool] = False,\n",
    "    do_swaps: Optional[bool] = True,\n",
    ") -> Circuit:\n",
    "    \"\"\"\n",
    "    Construct a circuit object corresponding to the inverse Quantum Fourier Transform (QFT)\n",
    "    algorithm, applied to the argument qubits.  Does not use recursion to generate the circuit.\n",
    "    \n",
    "    Args:\n",
    "        qubits (QubitSetInput): Qubits on which to apply the inverse Quantum Fourier Transform\n",
    "        reverse (Optional[bool]): Create a reversed version of this circuit\n",
    "    Returns:\n",
    "        Circuit: Circuit object that implements the inverse Quantum Fourier Transform algorithm\n",
    "    \"\"\"\n",
    "    qftcirc = Circuit()\n",
    "    \n",
    "    # get number of qubits\n",
    "    num_qubits = len(qubits)\n",
    "    \n",
    "    for k in reversed(range(num_qubits)):\n",
    "        # First add a Hadamard gate\n",
    "        qftcirc.h(qubits[k])\n",
    "    \n",
    "        # Then apply the controlled rotations, with weights (angles) defined by the distance to the control qubit.\n",
    "        # Start on the qubit after qubit k, and iterate until the end.  When num_qubits==1, this loop does not run.\n",
    "        for j in reversed(range(k)):\n",
    "            angle = 2*math.pi/(2**(1+k-j))\n",
    "            if reverse:\n",
    "                angle = -angle\n",
    "            qftcirc.cphaseshift(qubits[j], qubits[k], angle)\n",
    "            \n",
    "    # Then add SWAP gates to reverse the order of the qubits:\n",
    "    if do_swaps:\n",
    "        for i in range(math.floor(num_qubits/2)):\n",
    "            qftcirc.swap(qubits[i], qubits[-i-1])\n",
    "\n",
    "    # If the reversed Gate is asked, we simply reverse the instructions order\n",
    "    if reverse:\n",
    "        qftcirc = Circuit(reversed(qftcirc.instructions))\n",
    "\n",
    "    return qftcirc"
   ]
  },
  {
   "cell_type": "markdown",
   "id": "c59f5c72",
   "metadata": {},
   "source": [
    "We can display this circuit for an arbitrary number of qubits to see what it looks like:"
   ]
  },
  {
   "cell_type": "code",
   "execution_count": 26,
   "id": "8fdf028f",
   "metadata": {},
   "outputs": [
    {
     "data": {
      "text/plain": [
       "'qft with 3 qubits:'"
      ]
     },
     "metadata": {},
     "output_type": "display_data"
    },
    {
     "data": {
      "image/png": "[encoded data removed]",
      "text/plain": [
       "<Figure size 956.385x284.278 with 1 Axes>"
      ]
     },
     "metadata": {},
     "output_type": "display_data"
    },
    {
     "data": {
      "text/plain": [
       "'qft_dagger with 3 qubits:'"
      ]
     },
     "metadata": {},
     "output_type": "display_data"
    },
    {
     "data": {
      "image/png": "[encoded data removed]",
      "text/plain": [
       "<Figure size 956.385x284.278 with 1 Axes>"
      ]
     },
     "metadata": {},
     "output_type": "display_data"
    }
   ],
   "source": [
    "EXAMPLE_QUBIT_COUNT=3\n",
    "display(f\"qft with {EXAMPLE_QUBIT_COUNT} qubits:\")\n",
    "display(braket_to_qiskit_circuit(qft([*range(EXAMPLE_QUBIT_COUNT)]), True).draw('mpl'))\n",
    "display(f\"qft_dagger with {EXAMPLE_QUBIT_COUNT} qubits:\")\n",
    "display(braket_to_qiskit_circuit(qft([*range(EXAMPLE_QUBIT_COUNT)], reverse=True), True).draw('mpl'))"
   ]
  },
  {
   "cell_type": "markdown",
   "id": "2bca8c4d",
   "metadata": {},
   "source": [
    "# Create the generic modular exponentiation\n",
    "Based on this answer: https://quantumcomputing.stackexchange.com/a/14773\n",
    "\n",
    "Which itself is an interpretation of https://arxiv.org/pdf/quant-ph/9511018.pdf\n",
    "\n",
    "The principle here is to construct very simple quantum circuits for simple tasks. We begin with a simple 3-qubit circuit for the sum of 2 qubits. Then another 4-qubits circuit for the carry of the 2-qubit addition, then we use those to construct a generic adder, then an adder modulo N, and so on and so forth until we get a circuit able to compute the modular exponantiation of an integer...\n",
    "\n",
    "As the scientific paper states, this implementation is simple to understand but in now way efficient. It results in a Quantum Circuit with 7n+2 qubits, n being the number of bit required to represent the number N to factor (size_of(N)). For example, 15 is a 4-bit number, so the quantum circuit will have 7*4+2=30 qubits.\n",
    "\n",
    "This can be brought down to 4n+3 qubit, as in the other notebook, by NOT using any quantum register to encode classical information (such as N, a, etc...) and creating a quantum adder that perform additions in the Fourier space, thus not needing a carry register. Of course, the circuit construction is less intuitive, but well worth your while. See `shors-2-4n+3.ipynb`"
   ]
  },
  {
   "cell_type": "markdown",
   "id": "6a677c52",
   "metadata": {},
   "source": [
    "## Sum on 3 qubits\n",
    "In the end, `q_r = q_a + q_b`"
   ]
  },
  {
   "cell_type": "code",
   "execution_count": 4,
   "id": "e5600a57",
   "metadata": {},
   "outputs": [],
   "source": [
    "@circuit.subroutine(register=True)\n",
    "def q_sum_3(\n",
    "    q_a: Qubit, q_b: Qubit, q_r: Qubit,\n",
    "    reverse: bool = False\n",
    ") -> Circuit:\n",
    "    \"\"\"\n",
    "    Construct a circuit object, that will become our generic Gate, taking 3-qubits: a, b and r. r is supposed to be\n",
    "    initialized in the |0> state. The circuit perform the addition modulo-2 of a and b,\n",
    "    that is r = a XOR b\n",
    "    Args:\n",
    "        q_a (Qubit): First term to add\n",
    "        q_b (Qubit): Second term to add\n",
    "        q_r (Qubit): Result of the addition modulo 2 of q_a and q_b (a XOR b)\n",
    "        reverse (bool): Create a reversed version of this circuit\n",
    "    Returns:\n",
    "        Circuit: Resulting circuit that can be used as a Gate in a more complex circuit\n",
    "    \"\"\"\n",
    "    # Instantiate circuit object\n",
    "    c = Circuit()\n",
    "    \n",
    "    # Add the gates\n",
    "    c.cnot(q_b, q_r)\n",
    "    c.cnot(q_a, q_r)\n",
    "    \n",
    "    # If the reversed Gate is asked, we simply reverse the instructions order\n",
    "    if reverse:\n",
    "        c = Circuit(reversed(c.instructions))\n",
    "    return c\n"
   ]
  },
  {
   "cell_type": "code",
   "execution_count": 5,
   "id": "e33a741e",
   "metadata": {},
   "outputs": [],
   "source": [
    "# Test the reversibility\n",
    "\n",
    "# Create a 2 qubit register\n",
    "reg = [*range(3)]\n",
    "\n",
    "# For all the possible values on 2 bits\n",
    "for test_number in range(2**2):\n",
    "    c = Circuit()\n",
    "    # Init the 2 first qubits of the register\n",
    "    for i in range(2):\n",
    "        # If the i-th bit in the test_number is 1\n",
    "        if 2**i & test_number:\n",
    "            # Flip the corresponding qubit in reg with a not-gate (thus changing it from 0 (the default) to 1)\n",
    "            c.x(reg[i])\n",
    "\n",
    "    # Add our circuit, then its inverse\n",
    "    c.q_sum_3(reg[0], reg[1], reg[2])\n",
    "    c.q_sum_3(reg[0], reg[1], reg[2], True)\n",
    "\n",
    "    # Now simulate the circuit 1000 times and retrieve the measures\n",
    "    measures = local_simulator.run(c, shots=1000).result().measurement_counts.keys()\n",
    "    # There should only be one result because this circuit should be completly deterministic\n",
    "    assert len(measures) == 1, f\"Expected only one result, got {len(measures)}: {measures}\"\n",
    "    for measure in measures:\n",
    "        # Verify the result is expected\n",
    "        result = int(''.join(reversed(measure)), 2)\n",
    "        # Verify that we obtain the correct result\n",
    "        assert test_number == result, f\"{test_number} != {result}\"\n"
   ]
  },
  {
   "cell_type": "code",
   "execution_count": 6,
   "id": "3aa287f6",
   "metadata": {},
   "outputs": [
    {
     "data": {
      "text/plain": [
       "'q_sum_3:'"
      ]
     },
     "metadata": {},
     "output_type": "display_data"
    },
    {
     "data": {
      "image/png": "[encoded data removed]",
      "text/plain": [
       "<Figure size 287.496x284.278 with 1 Axes>"
      ]
     },
     "metadata": {},
     "output_type": "display_data"
    }
   ],
   "source": [
    "\n",
    "display(\"q_sum_3:\")\n",
    "display(braket_to_qiskit_circuit(q_sum_3(0, 1, 2), True).draw('mpl'))"
   ]
  },
  {
   "cell_type": "markdown",
   "id": "007ce7ce",
   "metadata": {},
   "source": [
    "## Carry on 3 qubits\n",
    "In the end, `q_new_c = (q_old_c + q_a + q_b) // 2`. Another way of saying it is that `q_new_c` is 1 if and only if at least 2 of the 3 input registers are 1."
   ]
  },
  {
   "cell_type": "code",
   "execution_count": 7,
   "id": "32d2e068",
   "metadata": {},
   "outputs": [],
   "source": [
    "@circuit.subroutine(register=True)\n",
    "def q_carry_3(\n",
    "    q_old_c: Qubit, \n",
    "    q_a: Qubit, q_b: Qubit,\n",
    "    q_new_c: Qubit,\n",
    "    reverse: bool = False\n",
    ") -> Circuit:\n",
    "    \"\"\"\n",
    "    Construct a circuit object, that will become our generic Gate, taking 4-qubits: old_c, a, b and new_c. new_c is supposed to be\n",
    "    initialized in the |0> state. The circuit place the carry of old_c + a + b in new_c.\n",
    "    Note that it changes the states of old_c, a and b ; therefore in a more global circuit the reverse of\n",
    "    this one will come handy.\n",
    "    Args:\n",
    "        q_old_c (Qubit): First term to add\n",
    "        q_a (Qubit): Second term to add\n",
    "        q_b (Qubit): Third term to add\n",
    "        q_c (Qubit): Carry of the addition modulo 2 of q_old_c, q_a and q_b\n",
    "        reverse (bool): Create a reversed version of this circuit\n",
    "    Returns:\n",
    "        Circuit: Resulting circuit that can be used as a Gate in a more complex circuit\n",
    "    \"\"\"\n",
    "    # Instantiate circuit object\n",
    "    c = Circuit()\n",
    "    \n",
    "    # Add the gates\n",
    "    c.ccnot(q_a, q_b, q_new_c)\n",
    "    c.cnot(q_a, q_b)\n",
    "    c.ccnot(q_old_c, q_b, q_new_c)\n",
    "    \n",
    "    # If the reversed Gate is asked, we simply reverse the instructions order\n",
    "    if reverse:\n",
    "        c = Circuit(reversed(c.instructions))\n",
    "    return c\n"
   ]
  },
  {
   "cell_type": "code",
   "execution_count": 8,
   "id": "7780aa34",
   "metadata": {},
   "outputs": [],
   "source": [
    "# Test the reversibility\n",
    "\n",
    "# Create a 4 qubit register\n",
    "reg = [*range(4)]\n",
    "\n",
    "# For all the possible values on 3 bits\n",
    "for test_number in range(2**3):\n",
    "    c = Circuit()\n",
    "    # Init the 2 first qubits of the register\n",
    "    for i in range(3):\n",
    "        # If the i-th bit in the test_number is 1\n",
    "        if 2**i & test_number:\n",
    "            # Flip the corresponding qubit in reg with a not-gate (thus changing it from 0 (the default) to 1)\n",
    "            c.x(reg[i])\n",
    "\n",
    "    # Add our circuit, then its inverse\n",
    "    c.q_carry_3(reg[0], reg[1], reg[2], reg[3])\n",
    "    c.q_carry_3(reg[0], reg[1], reg[2], reg[3], True)\n",
    "\n",
    "    # Now simulate the circuit 1000 times and retrieve the measures\n",
    "    measures = local_simulator.run(c, shots=1000).result().measurement_counts.keys()\n",
    "    # There should only be one result because this circuit should be completly deterministic\n",
    "    assert len(measures) == 1, f\"Expected only one result, got {len(measures)}: {measures}\"\n",
    "    for measure in measures:\n",
    "        # Verify the result is expected\n",
    "        result = int(''.join(reversed(measure)), 2)\n",
    "        # Verify that we obtain the correct result\n",
    "        assert test_number == result, f\"{test_number} != {result}\""
   ]
  },
  {
   "cell_type": "code",
   "execution_count": 9,
   "id": "247a3ee3",
   "metadata": {},
   "outputs": [
    {
     "data": {
      "text/plain": [
       "'q_carry_3:'"
      ]
     },
     "metadata": {},
     "output_type": "display_data"
    },
    {
     "data": {
      "image/png": "[encoded data removed]",
      "text/plain": [
       "<Figure size 371.107x367.889 with 1 Axes>"
      ]
     },
     "metadata": {},
     "output_type": "display_data"
    }
   ],
   "source": [
    "\n",
    "display(\"q_carry_3:\")\n",
    "display(braket_to_qiskit_circuit(q_carry_3(0, 1, 2, 3), True).draw('mpl'))"
   ]
  },
  {
   "cell_type": "markdown",
   "id": "3211ce83",
   "metadata": {},
   "source": [
    "## Adder circuit\n",
    "At the end, `reg_b = reg_a + reg_b`\n",
    "\n",
    "`reg_c` is reseted to its initial status after being used as the carry register"
   ]
  },
  {
   "cell_type": "code",
   "execution_count": 10,
   "id": "14f3c544",
   "metadata": {
    "scrolled": false
   },
   "outputs": [],
   "source": [
    "@circuit.subroutine(register=True)\n",
    "def q_adder(\n",
    "    reg_a: QubitSetInput,\n",
    "    reg_b: QubitSetInput,\n",
    "    reg_c: QubitSetInput,\n",
    "    reverse: bool = False\n",
    ") -> Circuit:\n",
    "    \"\"\"\n",
    "    Construct a circuit object, that will become our generic Gate, taking 3 registers: reg_a, reg_b and reg_c. reg_a and reg_b respectivly \n",
    "    contain integers a and b. reg_c is expected to contain 0 and will be used for carries.\n",
    "    At the end of the circuit, reg_b contains a + b. Even if integers a and b were initially the same size in bits (which is expected),\n",
    "    a + b can be 1-bit longer, which is why size(reg_b) = size(reg_a) + 1\n",
    "    Args:\n",
    "        reg_a (QubitSetInput): Register of the number a\n",
    "        reg_b (QubitSetInput): Register of the number b, will contain a + b at the end of the circuit\n",
    "        reg_c (QubitSetInput): Register storing the carries of the addtion, expected to be |0>\n",
    "            at the begining of the circuit and will be left unchanged at the end\n",
    "        reverse (bool): Create a reversed version of this circuit\n",
    "    Returns:\n",
    "        Circuit: Resulting circuit that can be used as a Gate in a more complex circuit\n",
    "    \"\"\"\n",
    "    \n",
    "    # Verify the various register have the right size relative to each others\n",
    "    assert len(reg_b) == len(reg_a) + 1\n",
    "    assert len(reg_c) == len(reg_a)\n",
    "    \n",
    "    # Instantiate circuit object\n",
    "    c = Circuit()\n",
    "\n",
    "    last_index = len(reg_a) - 1\n",
    "\n",
    "    for i in range(0, last_index):\n",
    "        c.q_carry_3(reg_c[i], reg_a[i], reg_b[i], reg_c[i + 1])\n",
    "\n",
    "    c.q_carry_3(reg_c[last_index], reg_a[last_index], reg_b[last_index], reg_b[last_index + 1])\n",
    "    c.cnot(reg_a[last_index], reg_b[last_index])\n",
    "    c.q_sum_3(reg_c[last_index], reg_a[last_index], reg_b[last_index])\n",
    "    \n",
    "    for i in reversed(range(0, last_index)):\n",
    "        c.q_carry_3(reg_c[i], reg_a[i], reg_b[i], reg_c[i + 1], True)\n",
    "        c.q_sum_3(reg_c[i], reg_a[i], reg_b[i])\n",
    "\n",
    "    if reverse:\n",
    "        c = Circuit(reversed(c.instructions))\n",
    "\n",
    "    return c\n"
   ]
  },
  {
   "cell_type": "code",
   "execution_count": 11,
   "id": "52645471",
   "metadata": {},
   "outputs": [
    {
     "data": {
      "text/plain": [
       "'q_adder behave as expected'"
      ]
     },
     "metadata": {},
     "output_type": "display_data"
    },
    {
     "data": {
      "text/plain": [
       "'q_adder-dagger behave as expected'"
      ]
     },
     "metadata": {},
     "output_type": "display_data"
    },
    {
     "data": {
      "text/plain": [
       "'q_adder is inversible as expected'"
      ]
     },
     "metadata": {},
     "output_type": "display_data"
    }
   ],
   "source": [
    "# Bit-size of integers a and b\n",
    "n = 3\n",
    "# Max value of integers a and b\n",
    "N = 2**n - 1\n",
    "# Register for integer a, of size n\n",
    "reg_a = [*range(0, n)]\n",
    "# Register for integer b, of size n+1 because it will contains a+b in the end, which can be 1 bit longer than a and b\n",
    "# Register b follows reg_a and therefore is offset by the len of reg_a\n",
    "reg_b = [*range(len(reg_a) + 0, len(reg_a) + (n + 1))]\n",
    "# Register c for the carries of the addition, of size n\n",
    "# Register c follows reg_a and reg_b and therefore is offset by the len of reg_a and reg_b\n",
    "reg_c = [*range(len(reg_a) + len(reg_b) + 0, len(reg_a) + len(reg_b) + n)]\n",
    "\n",
    "# For all possible n-bit integers a, verify that our q_adder works as expected\n",
    "for a in reversed(range(N+1)):\n",
    "    # For all possible n-bit integers b\n",
    "    for b in reversed(range(N+1)):\n",
    "        # New circuit\n",
    "        c_q_adder = Circuit()\n",
    "        # Initialize reg_a and reg_b according to the value of a and b\n",
    "        # For each bit\n",
    "        for i in range(n):\n",
    "            # If the i-th bit in the integer a is 1\n",
    "            if 2**i & a:\n",
    "                # Flip the corresponding qubit in reg_a with a not-gate (thus changing it from 0 (the default) to 1)\n",
    "                c_q_adder.x(reg_a[i])\n",
    "            # If the i-th bit in the integer b is 1\n",
    "            if 2**i & b:\n",
    "                # Flip the corresponding qubit in reg_b with a not-gate (thus changing it from 0 (the default) to 1)\n",
    "                c_q_adder.x(reg_b[i])\n",
    "        # Create the adder using our registers (with reg_a and reg_b initialize by the values of integers a and b, reg_c is unchanged, so it is all 0's)\n",
    "        c_q_adder.q_adder(reg_a, reg_b, reg_c)\n",
    "        # Now simulate the circuit 1000 times and retrieve the measures\n",
    "        measures = local_simulator.run(c_q_adder, shots=1000).result().measurement_counts.keys()\n",
    "        # There should only be one result because this circuit should be completly deterministic\n",
    "        assert len(measures) == 1, f\"Expected only one result, got {len(measures)}: {measures}\"\n",
    "        for measure in measures:\n",
    "            # Extract the bits for reg_b only from the resulting measurement, reverse them and convert them to the corresponding int\n",
    "            result = int(''.join(reversed(measure[len(reg_a):len(reg_a) + len(reg_b)])), 2)\n",
    "            # Verify that we obtain the correct result a + b\n",
    "            assert a + b == result, f\"({a} + {b}) = {a + b} not {result}\"\n",
    "\n",
    "display(\"q_adder behave as expected\")\n",
    "\n",
    "# For all possible n-bit integers a, verify that our REVERSED-q_adder works as expected\n",
    "for a in reversed(range(N+1)):\n",
    "    # For all possible n-bit integers b\n",
    "    for b in reversed(range(N+1)):\n",
    "        # New circuit\n",
    "        c_q_adder = Circuit()\n",
    "        # Initialize reg_a and reg_b according to the value of a and b\n",
    "        # For each bit\n",
    "        for i in range(n):\n",
    "            # If the i-th bit in the integer a is 1\n",
    "            if 2**i & a:\n",
    "                # Flip the corresponding qubit in reg_a with a not-gate (thus changing it from 0 (the default) to 1)\n",
    "                c_q_adder.x(reg_a[i])\n",
    "            # If the i-th bit in the integer b is 1\n",
    "            if 2**i & b:\n",
    "                # Flip the corresponding qubit in reg_b with a not-gate (thus changing it from 0 (the default) to 1)\n",
    "                c_q_adder.x(reg_b[i])\n",
    "        # Create the reverse-adder using our registers (with reg_a and reg_b initialize by the values of integers a and b, reg_c is unchanged, so it is all 0's)\n",
    "        c_q_adder.q_adder(reg_a, reg_b, reg_c, True)\n",
    "        # Now simulate the circuit 1000 times and retrieve the measures\n",
    "        measures = local_simulator.run(c_q_adder, shots=1000).result().measurement_counts.keys()\n",
    "        # There should only be one result because this circuit should be completly deterministic\n",
    "        assert len(measures) == 1, f\"Expected only one result, got {len(measures)}: {measures}\"\n",
    "        for measure in measures:\n",
    "            # Extract the bits for reg_b only from the resulting measurement, reverse them and convert them to the corresponding int\n",
    "            result = int(''.join(reversed(measure[len(reg_a):len(reg_a) + len(reg_b)])), 2)\n",
    "            # We expect to obtain the subtraction b-a modulo 2**(n+1) (the size of reg_b)\n",
    "            expected = (b - a) % 2**(n+1)\n",
    "            # Verify that we obtain the correct result\n",
    "            assert expected == result, f\"({b} - {a}) = {expected} not {result}\"\n",
    "display(\"q_adder-dagger behave as expected\")\n",
    "\n",
    "# Test the reversibility\n",
    "\n",
    "# For all possible n-bit integers a, verify that our q_adder works as expected\n",
    "for a in reversed(range(N+1)):\n",
    "    # For all possible n-bit integers b\n",
    "    for b in reversed(range(N+1)):\n",
    "        # New circuit\n",
    "        c = Circuit()\n",
    "        # Initialize reg_a and reg_b according to the value of a and b\n",
    "        # For each bit\n",
    "        for i in range(n):\n",
    "            # If the i-th bit in the integer a is 1\n",
    "            if 2**i & a:\n",
    "                # Flip the corresponding qubit in reg_a with a not-gate (thus changing it from 0 (the default) to 1)\n",
    "                c.x(reg_a[i])\n",
    "            # If the i-th bit in the integer b is 1\n",
    "            if 2**i & b:\n",
    "                # Flip the corresponding qubit in reg_b with a not-gate (thus changing it from 0 (the default) to 1)\n",
    "                c.x(reg_b[i])\n",
    "        # Create the identity circuit\n",
    "        c.q_adder(reg_a, reg_b, reg_c)\n",
    "        c.q_adder(reg_a, reg_b, reg_c, True)\n",
    "        # Now simulate the circuit 1000 times and retrieve the measures\n",
    "        measures = local_simulator.run(c, shots=1000).result().measurement_counts.keys()\n",
    "        # There should only be one result because this circuit should be completly deterministic\n",
    "        assert len(measures) == 1, f\"Expected only one result, got {len(measures)}: {measures}\"\n",
    "        for measure in measures:\n",
    "            # Extract the bits for reg_b only from the resulting measurement, reverse them and convert them to the corresponding int\n",
    "            result_a = int(''.join(reversed(measure[:len(reg_a)])), 2)\n",
    "            result_b = int(''.join(reversed(measure[len(reg_a):len(reg_a)+len(reg_b)])), 2)\n",
    "            result_c = int(''.join(reversed(measure[len(reg_a)+len(reg_b):])), 2)\n",
    "            # Verify that we obtain the correct results\n",
    "            assert a == result_a, f\"{a} != {result_a}\"\n",
    "            assert b == result_b, f\"{b} != {result_b}\"\n",
    "            assert 0 == result_c, f\"0 != {result_c}\"\n",
    "\n",
    "display(\"q_adder is inversible as expected\")"
   ]
  },
  {
   "cell_type": "code",
   "execution_count": 12,
   "id": "dc263e6b",
   "metadata": {},
   "outputs": [
    {
     "data": {
      "text/plain": [
       "'q_adder:'"
      ]
     },
     "metadata": {},
     "output_type": "display_data"
    },
    {
     "data": {
      "image/png": "[encoded data removed]",
      "text/plain": [
       "<Figure size 1959.72x869.556 with 1 Axes>"
      ]
     },
     "metadata": {},
     "output_type": "display_data"
    }
   ],
   "source": [
    "# Bit-size of integers a and b\n",
    "EXAMPLE_QUBIT_COUNT=3\n",
    "# Register for integer a, of size n\n",
    "reg_a = [*range(0, EXAMPLE_QUBIT_COUNT)]\n",
    "# Register for integer b, of size n+1 because it will contains a+b in the end, which can be 1 bit longer than a and b\n",
    "# Register b follows reg_a and therefore is offset by the len of reg_a\n",
    "reg_b = [*range(len(reg_a) + 0, len(reg_a) + (EXAMPLE_QUBIT_COUNT + 1))]\n",
    "# Register c for the carries of the addition, of size n\n",
    "# Register c follows reg_a and reg_b and therefore is offset by the len of reg_a and reg_b\n",
    "reg_c = [*range(len(reg_a) + len(reg_b) + 0, len(reg_a) + len(reg_b) + EXAMPLE_QUBIT_COUNT)]\n",
    "# Display the resulting circuit\n",
    "display(\"q_adder:\")\n",
    "display(braket_to_qiskit_circuit(q_adder(reg_a, reg_b, reg_c), True).draw('mpl'))"
   ]
  },
  {
   "cell_type": "markdown",
   "id": "f45235fc",
   "metadata": {},
   "source": [
    "## Adder modulo N circuit\n",
    "At the end, `reg_b = (reg_a + reg_b) % N`"
   ]
  },
  {
   "cell_type": "code",
   "execution_count": 13,
   "id": "6475ff9a",
   "metadata": {
    "scrolled": true
   },
   "outputs": [],
   "source": [
    "@circuit.subroutine(register=True)\n",
    "def q_adder_modN(\n",
    "    N: int,\n",
    "    reg_a: QubitSetInput,\n",
    "    reg_b: QubitSetInput,\n",
    "    reg_c: QubitSetInput,\n",
    "    reg_N: QubitSetInput,\n",
    "    q_t: Qubit,\n",
    "    reverse = False\n",
    ") -> Circuit:\n",
    "    \"\"\"\n",
    "    Construct a circuit object, that will become our generic Gate, taking 4 registers: reg_a, reg_b, reg_c and reg_N. reg_a and reg_b respectivly \n",
    "    contain integers a and b. reg_c is expected to contain 0 and will be used for carries. reg_N contains the number N used for the modulo.\n",
    "    At the end of the circuit, reg_b contains (a + b) % N. Even if integers a and b were initially the same size in bits (which is expected),\n",
    "    a + b can be 1-bit longer, which is why size(reg_b) = size(reg_a) + 1. reg_N is expected to be the same size of reg_a.\n",
    "    Args:\n",
    "        N (int): The number N, used to hard-code some part of the circuit\n",
    "        reg_a (QubitSetInput): Register of the number a\n",
    "        reg_b (QubitSetInput): Register of the number b, will contain a + b at the end of the circuit\n",
    "        reg_c (QubitSetInput): Register storing the carries of the addtion, expected to be |0>\n",
    "            at the begining of the circuit and will be left unchanged at the end\n",
    "        reg_N (QubitSetInput): Register storing the integer N for the modulo operation. Will be left unchanged at the end\n",
    "        q_t (Qubit): Control qubit used to verify the sign of a + b - N at some point of the computation. Expected to be |0>\n",
    "            and will be left unchanged by the computation\n",
    "        reverse (bool): Create a reversed version of this circuit\n",
    "    Returns:\n",
    "        Circuit: Resulting circuit that can be used as a Gate in a more complex circuit\n",
    "    \"\"\"\n",
    "    assert len(reg_b) == len(reg_a) + 1\n",
    "    assert len(reg_c) == len(reg_a)\n",
    "    assert len(reg_N) == len(reg_a)\n",
    "    \n",
    "    c = Circuit()\n",
    "    \n",
    "    # Add reg_a and reg_b\n",
    "    c.q_adder(reg_a, reg_b, reg_c)\n",
    "    # Swap a and N\n",
    "    for i in range(len(reg_a)):\n",
    "        c.swap(reg_a[i], reg_N[i])\n",
    "    # Substract N\n",
    "    c.q_adder(reg_a, reg_b, reg_c, True)\n",
    "    \n",
    "    # At this point, reg_b contains a + b - N\n",
    "    # We want to verify if a + b - N is negative or not.\n",
    "    # If a + b - N < 0 ; then it means that a + b < N ; therefore a + b = (a + b) % N ; therefore we HAVE to add back N to have the correct result\n",
    "    # If a + b - N >= 0 ; then it means that a + b >= N ; therefore a + b - N = (a + b) % N ; reg_b contains the correct result, we don't have to correct it.\n",
    "    # We cannot dynamically change the circuit while running. What we do is that not matter what we will perform an addition reg_b = reg_a + reg_b\n",
    "    # The trick is to set reg_a to 0 if we don't want to add back N ; or to leave it as it is if we want to add back N.\n",
    "    # We will control the \"set to 0\" operation with the qubit q_t.\n",
    "    # If a + b - N < 0, the most significant bit of reg_b is 1, we want to add back N, so we DON'T want to set reg_a to 0, q_t must stay at 0\n",
    "    # Else the most significant bit of reg_b is 0, we don't want to add back N, so we want to set reg_a to 0, q_t must be set to 1.\n",
    "    # \n",
    "    # Therefore, we switch the most significant bit of reg_b, use it for a control-NOT operation on q_t, then switch it back.\n",
    "    # The most significant bit of reg_b is left unchanged by this sequence of operation and\n",
    "    # q_t will be :\n",
    "    #    0 if a + b - N < 0\n",
    "    #    1 if a + b - N >= 0\n",
    "    c.x(reg_b[-1])\n",
    "    c.cnot(reg_b[-1], q_t)\n",
    "    c.x(reg_b[-1])\n",
    "    \n",
    "    # The controlled \"set reg_a to 0\" operation can be hard coded because we KNOW the value of N at circuit construction\n",
    "    # N will not change and does not depend on our computation: it is constant.\n",
    "    # Therefore, we know in advance exactly which qubits are 1's and needs to be switched if we want to set reg_a to 0 (which contains N at this point)\n",
    "    # We hard-code the CNOT gates, with q_t as the control qubit:\n",
    "    for i in range(len(reg_a)):\n",
    "        if 2**i & N:\n",
    "            c.cnot(q_t, reg_a[i])\n",
    "\n",
    "    # We perform the \"add back\" operation\n",
    "    # if reg_a was set to 0, this perform reg_b = reg_b + 0 ; which does not do anything.\n",
    "    # else reg_a = N, so this perform reg_b = reg_b + N.\n",
    "    c.q_adder(reg_a, reg_b, reg_c)\n",
    "    \n",
    "    # Same controlled \"set reg_a to 0\" operation, but this time it is as \"set reg_a to N\" operation as\n",
    "    # it will be performed only if reg_a was set to 0\n",
    "    # We simply put back the qubit in place if we had set reg_a to 0 previously\n",
    "    for i in range(len(reg_a)):\n",
    "        if 2**i & N:\n",
    "            c.cnot(q_t, reg_a[i])\n",
    "\n",
    "    # Swap back a and N\n",
    "    for i in range(len(reg_a)):\n",
    "        c.swap(reg_a[i], reg_N[i])\n",
    "    \n",
    "    # Now reset q_t to its original value |0>\n",
    "    # Here is how it works. There is exactly 2 possibilities. At this point, either q_t was set to 1 or it was left to 0.\n",
    "    #\n",
    "    # Observe that q_t was set to 1 if and only if a + b - N >= 0 ; so in that case reg_b = a + b - N\n",
    "    # If we substract a, reg_b = b - N which is bound to be negative: as b is always a value modulo N, it must be strictly less than N, therefore b - N < 0\n",
    "    # Which means that after substracting a, the most significant qubit of reg_b will be 1, so using it for a CNOT operation on q_t will switch it back to 0.\n",
    "    #\n",
    "    # On the other hand, q_t is 0 if and only if a + b - N < 0 ; so in that case reg_b = a + b (because we added back N previously)\n",
    "    # If we substract a, reg_b = b. As b is a number that can be written we n-bits and size(reg_b) = n + 1 ; the most significant qubit of reg_b must be 0.\n",
    "    # So using it for a CNOT operation on q_t will do nothing and leave q_t as it is, which is 0.\n",
    "    #\n",
    "    # Un-add a with a reverse adder\n",
    "    c.q_adder(reg_a, reg_b, reg_c, True)\n",
    "    # CNOT operation on q_t using the most significant qubit of reg_b as the control\n",
    "    c.cnot(reg_b[-1], q_t)\n",
    "    # Re-add a\n",
    "    c.q_adder(reg_a, reg_b, reg_c)\n",
    "    \n",
    "    if reverse:\n",
    "        c = Circuit(reversed(c.instructions))\n",
    "    return c\n"
   ]
  },
  {
   "cell_type": "code",
   "execution_count": 14,
   "id": "bd460627",
   "metadata": {},
   "outputs": [
    {
     "data": {
      "text/plain": [
       "'q_adder_modN behave as expected'"
      ]
     },
     "metadata": {},
     "output_type": "display_data"
    },
    {
     "data": {
      "text/plain": [
       "'q_adder_modN-dagger behave as expected'"
      ]
     },
     "metadata": {},
     "output_type": "display_data"
    },
    {
     "data": {
      "text/plain": [
       "'q_adder_modN is inversible as expected'"
      ]
     },
     "metadata": {},
     "output_type": "display_data"
    }
   ],
   "source": [
    "# Controls that the circuit is actually performing correctly for all possible value <= 7 MOD 7\n",
    "\n",
    "# Fix the N\n",
    "N = 7\n",
    "# Find the minimum number of bits required to represent N\n",
    "n = bit_size_of(N)\n",
    "# Register for integer a, of size n\n",
    "reg_a = [*range(0, n)]\n",
    "# Register for integer b, of size n+1 because it will contains a+b at some point, which can be 1 bit longer than a and b\n",
    "# Register b follows reg_a and therefore is offset by the len of reg_a\n",
    "reg_b = [*range(len(reg_a) + 0, len(reg_a) + (n + 1))]\n",
    "# Register c for the carries of the addition, of size n\n",
    "# Register c follows reg_a and reg_b and therefore is offset by the len of reg_a and reg_b\n",
    "reg_c = [*range(len(reg_a) + len(reg_b) + 0, len(reg_a) + len(reg_b) + n)]\n",
    "# Register N to hold the value N, of size n\n",
    "# Register N follows reg_a, reg_b and reg_c and therefore is offset by the len of reg_a, reg_b and reg_c\n",
    "reg_N = [*range(len(reg_a) + len(reg_b) + len(reg_c), len(reg_a) + len(reg_b) + len(reg_c) + n)]\n",
    "# Qubit q_t, which follows all the other register so its number is simply the combined length of the 4 registers\n",
    "q_t = len(reg_a) + len(reg_b) + len(reg_c) + len(reg_N)\n",
    "\n",
    "\n",
    "# For all possible integers a smaller than N, verify that our q_adder_modN works as expected\n",
    "for a in reversed(range(N)):\n",
    "    # For all possible integers b smaller than N, verify that our q_adder_modN works as expected\n",
    "    for b in reversed(range(N)):\n",
    "        # New circuit\n",
    "        c_q_adder_modN = Circuit()\n",
    "        # Initialize reg_a, reg_b and reg_N according to the value of a, b and N\n",
    "        # For each bit\n",
    "        for i in range(n):\n",
    "            # If the i-th bit in the integer a is 1\n",
    "            if 2**i & a:\n",
    "                # Flip the corresponding qubit in reg_a with a not-gate (thus changing it from 0 (the default) to 1)\n",
    "                c_q_adder_modN.x(reg_a[i])\n",
    "            # If the i-th bit in the integer b is 1\n",
    "            if 2**i & b:\n",
    "                # Flip the corresponding qubit in reg_b with a not-gate (thus changing it from 0 (the default) to 1)\n",
    "                c_q_adder_modN.x(reg_b[i])\n",
    "            # If the i-th bit in the integer N is 1\n",
    "            if 2**i & N:\n",
    "                # Flip the corresponding qubit in reg_N with a not-gate (thus changing it from 0 (the default) to 1)\n",
    "                c_q_adder_modN.x(reg_N[i])\n",
    "        # Create the adder mod N using our registers\n",
    "        # with reg_a, reg_b and reg_N initialized by the values of integers a, b and N, reg_c and q_t are unchanged, so it is all 0's\n",
    "        c_q_adder_modN.q_adder_modN(N, reg_a, reg_b, reg_c, reg_N, q_t)\n",
    "        # Now simulate the circuit 1000 times and retrieve the measures\n",
    "        measures = local_simulator.run(c_q_adder_modN, shots=1000).result().measurement_counts.keys()\n",
    "        # There should only be one result because this circuit should be completly deterministic\n",
    "        assert len(measures) == 1, f\"Expected only one result, got {len(measures)}: {measures}\"\n",
    "        for measure in measures:\n",
    "            # Extract the bits for reg_b only from the resulting measurement, reverse them and convert them to the corresponding int\n",
    "            result = int(''.join(reversed(measure[len(reg_a):len(reg_a) + len(reg_b)])), 2)\n",
    "            # Verify that we obtain the correct result a + b % N\n",
    "            assert (a + b) % N == result, f\"({a} + {b}) % {N} = {(a + b) % N} not {result}\"\n",
    "display(\"q_adder_modN behave as expected\")\n",
    "\n",
    "# For all possible integers a smaller than N, verify that our REVERSE-q_adder_modN works as expected\n",
    "for a in reversed(range(N)):\n",
    "    # For all possible integers b smaller than N, verify that our q_adder_modN works as expected\n",
    "    for b in reversed(range(N)):\n",
    "        # New circuit\n",
    "        c_q_adder_modN = Circuit()\n",
    "        # Compute (a + b) % N\n",
    "        b_after = (a + b) % N\n",
    "        # Initialize reg_a, reg_b and reg_N according to the value of a, b_after and N\n",
    "        # For each bit\n",
    "        for i in range(n):\n",
    "            # If the i-th bit in the integer a is 1\n",
    "            if 2**i & a:\n",
    "                # Flip the corresponding qubit in reg_a with a not-gate (thus changing it from 0 (the default) to 1)\n",
    "                c_q_adder_modN.x(reg_a[i])\n",
    "            # If the i-th bit in the integer b_after is 1\n",
    "            if 2**i & b_after:\n",
    "                # Flip the corresponding qubit in reg_b with a not-gate (thus changing it from 0 (the default) to 1)\n",
    "                c_q_adder_modN.x(reg_b[i])\n",
    "            # If the i-th bit in the integer N is 1\n",
    "            if 2**i & N:\n",
    "                # Flip the corresponding qubit in reg_N with a not-gate (thus changing it from 0 (the default) to 1)\n",
    "                c_q_adder_modN.x(reg_N[i])\n",
    "        # Create the REVERSE adder mod N using our registers\n",
    "        # with reg_a, reg_b and reg_N initialized by the values of integers a, b and N, reg_c and q_t are unchanged, so it is all 0's\n",
    "        c_q_adder_modN.q_adder_modN(N, reg_a, reg_b, reg_c, reg_N, q_t, True)\n",
    "        # Now simulate the circuit 1000 times and retrieve the measures\n",
    "        measures = local_simulator.run(c_q_adder_modN, shots=1000).result().measurement_counts.keys()\n",
    "        # There should only be one result because this circuit should be completly deterministic\n",
    "        assert len(measures) == 1, f\"Expected only one result, got {len(measures)}: {measures}\"\n",
    "        for measure in measures:\n",
    "            # Extract the bits for reg_b only from the resulting measurement, reverse them and convert them to the corresponding int\n",
    "            result = int(''.join(reversed(measure[len(reg_a):len(reg_a) + len(reg_b)])), 2)\n",
    "            # Verify that we obtain the correct result b_after - a % N\n",
    "            assert (b_after - a) % N == result, f\"({b_after} - {a}) % {N} = {(b_after - a) % N} not {result}\"\n",
    "display(\"q_adder_modN-dagger behave as expected\")\n",
    "\n",
    "\n",
    "# For all possible integers a smaller than N, verify that our q_adder_modN works as expected\n",
    "for a in reversed(range(N)):\n",
    "    # For all possible integers b smaller than N, verify that our q_adder_modN works as expected\n",
    "    for b in reversed(range(N)):\n",
    "        # New circuit\n",
    "        c = Circuit()\n",
    "        # Initialize reg_a, reg_b and reg_N according to the value of a, b_after and N\n",
    "        # For each bit\n",
    "        for i in range(n):\n",
    "            # If the i-th bit in the integer a is 1\n",
    "            if 2**i & a:\n",
    "                # Flip the corresponding qubit in reg_a with a not-gate (thus changing it from 0 (the default) to 1)\n",
    "                c.x(reg_a[i])\n",
    "            # If the i-th bit in the integer b is 1\n",
    "            if 2**i & b:\n",
    "                # Flip the corresponding qubit in reg_b with a not-gate (thus changing it from 0 (the default) to 1)\n",
    "                c.x(reg_b[i])\n",
    "            # If the i-th bit in the integer N is 1\n",
    "            if 2**i & N:\n",
    "                # Flip the corresponding qubit in reg_N with a not-gate (thus changing it from 0 (the default) to 1)\n",
    "                c.x(reg_N[i])\n",
    "        # Create the REVERSE adder mod N using our registers\n",
    "        # with reg_a, reg_b and reg_N initialized by the values of integers a, b and N, reg_c and q_t are unchanged, so it is all 0's\n",
    "        c.q_adder_modN(N, reg_a, reg_b, reg_c, reg_N, q_t)\n",
    "        c.q_adder_modN(N, reg_a, reg_b, reg_c, reg_N, q_t, True)\n",
    "        # Now simulate the circuit 1000 times and retrieve the measures\n",
    "        measures = local_simulator.run(c, shots=1000).result().measurement_counts.keys()\n",
    "        # There should only be one result because this circuit should be completly deterministic\n",
    "        assert len(measures) == 1, f\"Expected only one result, got {len(measures)}: {measures}\"\n",
    "        for measure in measures:\n",
    "            # Extract the bits for reg_b only from the resulting measurement, reverse them and convert them to the corresponding int\n",
    "            result_a = int(''.join(reversed(measure[:len(reg_a)])), 2)\n",
    "            result_b = int(''.join(reversed(measure[len(reg_a):len(reg_a) + len(reg_b)])), 2)\n",
    "            result_c = int(''.join(reversed(measure[len(reg_a) + len(reg_b):len(reg_a) + len(reg_b) + len(reg_c)])), 2)\n",
    "            result_N = int(''.join(reversed(measure[len(reg_a) + len(reg_b) + len(reg_c):len(reg_a) + len(reg_b) + len(reg_c) + len(reg_N)])), 2)\n",
    "            result_qt = int(''.join(reversed(measure[len(reg_a) + len(reg_b) + len(reg_c) + len(reg_N):])), 2)\n",
    "            # Verify that we obtain the correct result b_after - a % N\n",
    "            assert result_a == a, f\"{result_a} != {a}\"\n",
    "            assert result_b == b, f\"{result_b} != {b}\"\n",
    "            assert result_c == 0, f\"{result_c} != 0\"\n",
    "            assert result_N == N, f\"{result_N} != {N}\"\n",
    "            assert result_qt == 0, f\"{result_qt} != 0\"\n",
    "\n",
    "display(\"q_adder_modN is inversible as expected\")"
   ]
  },
  {
   "cell_type": "code",
   "execution_count": 15,
   "id": "be8f3524",
   "metadata": {},
   "outputs": [
    {
     "data": {
      "text/plain": [
       "'q_adder_modN(N=3):'"
      ]
     },
     "metadata": {},
     "output_type": "display_data"
    },
    {
     "data": {
      "image/png": "[encoded data removed]",
      "text/plain": [
       "<Figure size 3464.72x1789.28 with 1 Axes>"
      ]
     },
     "metadata": {},
     "output_type": "display_data"
    }
   ],
   "source": [
    "EXAMPLE_N=3\n",
    "# Find the minimum number of bits required to represent N\n",
    "n = bit_size_of(EXAMPLE_N)\n",
    "# Register for integer a, of size n\n",
    "reg_a = [*range(0, n)]\n",
    "# Register for integer b, of size n+1 because it will contains a+b at some point, which can be 1 bit longer than a and b\n",
    "# Register b follows reg_a and therefore is offset by the len of reg_a\n",
    "reg_b = [*range(len(reg_a) + 0, len(reg_a) + (n + 1))]\n",
    "# Register c for the carries of the addition, of size n\n",
    "# Register c follows reg_a and reg_b and therefore is offset by the len of reg_a and reg_b\n",
    "reg_c = [*range(len(reg_a) + len(reg_b) + 0, len(reg_a) + len(reg_b) + n)]\n",
    "# Register N to hold the value N, of size n\n",
    "# Register N follows reg_a, reg_b and reg_c and therefore is offset by the len of reg_a, reg_b and reg_c\n",
    "reg_N = [*range(len(reg_a) + len(reg_b) + len(reg_c), len(reg_a) + len(reg_b) + len(reg_c) + n)]\n",
    "# Qubit q_t, which follows all the other register so its number is simply the combined length of the 4 registers\n",
    "q_t = len(reg_a) + len(reg_b) + len(reg_c) + len(reg_N)\n",
    "\n",
    "# Display the resulting circuit\n",
    "display(f\"q_adder_modN(N={EXAMPLE_N}):\")\n",
    "display(braket_to_qiskit_circuit(q_adder_modN(EXAMPLE_N, reg_a, reg_b, reg_c, reg_N, q_t), True).draw('mpl', fold=40))"
   ]
  },
  {
   "cell_type": "markdown",
   "id": "134ee166",
   "metadata": {},
   "source": [
    "## Controlled Multiplication modulo N circuit"
   ]
  },
  {
   "cell_type": "code",
   "execution_count": 16,
   "id": "1274cd98",
   "metadata": {
    "scrolled": true
   },
   "outputs": [],
   "source": [
    "@circuit.subroutine(register=True)\n",
    "def q_ctrl_mult_modN(\n",
    "    N: int, m: int,\n",
    "    q_ctrl: Qubit,\n",
    "    reg_z: QubitSetInput,\n",
    "    reg_a: QubitSetInput,\n",
    "    reg_b: QubitSetInput,\n",
    "    reg_c: QubitSetInput,\n",
    "    reg_N: QubitSetInput,\n",
    "    q_t: Qubit,\n",
    "    reverse = False\n",
    ") -> Circuit:\n",
    "    \"\"\"\n",
    "    Construct a circuit object, that will become our generic Gate, taking 5 registers and 2 individual qubits: q_ctrl is the control qubit that decide if we do\n",
    "    something or not, reg_z contain the number z we want to multiply by m. We already encountered reg_a, reg_b, reg_c, reg_N and q_t, which will be used as expected\n",
    "    by the q_adder_modN sub-circuits we will use to construct this one.\n",
    "    Only q_ctrl, reg_z and reg_N are expected to be non-zero, all other registers are expected to be 0, including reg_b.\n",
    "    At the end of this circuit, reg_b contains (z * m) % N if q_ctrl is 1 (else it contains z) and is the only register changed by the computation.\n",
    "    Args:\n",
    "        N (int): The number N, used to hard-code some part of the circuit, in particular the q_adder_modN\n",
    "        m (int): The number m, used to hard-code some part of the circuit and in particular to\n",
    "            create the appropriate number of q_adder_modN to perform (z * m) % N\n",
    "        q_ctrl (Qubit): Control qubit used that control weither or not we perform the operations. In the grand\n",
    "            scheme of things, this q_ctrl will be part of a larger register reg_x that will be introduced later.\n",
    "        reg_z (QubitSetInput): Register of the number z, contains the integer z that we want to multiply,\n",
    "            will be left unchanged at the end of the computation\n",
    "        reg_a (QubitSetInput): Register of the number a, expected to be |0> at the begining of the circuit \n",
    "            and will be left unchanged at the end of the computation\n",
    "        reg_b (QubitSetInput): Register of the number b, generally expected to be |0> at the begining of the circuit \n",
    "            and will contain (z * m) % N at the end of the computation if q_ctrl is 1, else it will simply contain z.\n",
    "        reg_c (QubitSetInput): Register storing the carries of the addtion, expected to be |0> at the begining of the circuit \n",
    "            and will be left unchanged at the end of the computation\n",
    "        reg_N (QubitSetInput): Register storing the integer N for the modulo operation\n",
    "            and will be left unchanged at the end of the computation\n",
    "        q_t (Qubit): Control qubit used to verify the sign of a + b - N at some point of the q_adder_modN. Expected to be |0>\n",
    "            and will be left unchanged by the computation\n",
    "        reverse (bool): Create a reversed version of this circuit\n",
    "    Returns:\n",
    "        Circuit: Resulting circuit that can be used as a Gate in a more complex circuit\n",
    "    \"\"\"\n",
    "    assert len(reg_b) == len(reg_a) + 1\n",
    "    assert len(reg_c) == len(reg_a)\n",
    "    assert len(reg_N) == len(reg_a)\n",
    "    assert len(reg_z) == len(reg_a)\n",
    "    \n",
    "    c = Circuit()\n",
    "    # We want to perform a serie of additions modulo N so that, in the end, reg_b = z * m % N\n",
    "    # Of course, we could simply perform m-time the addition reg_b = reg_b + z, with reg_b initially at 0\n",
    "    # But that would introduce an additionnal linear complexity O(m). If m is reasonnably large, it would be a problem...\n",
    "    # But most of all, it is not needed.\n",
    "    #\n",
    "    # What we can do is use the following facts:\n",
    "    # 1/\n",
    "    # If z is an integer with a binary representation zn...z2z1z0, then\n",
    "    # z*m = zn*2^n*m + ... + z2*2^2*m + z1*2^1*m + z0*2^0*m\n",
    "    # It is just a formal way of saying a very obvious thing that you can easily see with a base-10 example:\n",
    "    # 1873*m = 1000*m + 800*m + 70*m + 3*m = 1*10^3*m + 8*10^2*m + 7*10^1*m + 3*10^0*m\n",
    "    # 2/\n",
    "    # And of course: (A + B + C + D) % N = (((A % N + B % N) % N + C % N) % N + D % N) % N ; meaning that \n",
    "    # we can apply the modulo N as we go to each individual addition and operand, and obtain exactly the same result\n",
    "    # as if we were to first perform the complete addition and then apply the modulo.\n",
    "\n",
    "    # So we use these facts to optimize our circuit. Instead of performing m-time the q_adder_modN, we only need bit_size(z) q_adder_modN\n",
    "    # For each qubit of the register z\n",
    "    for j in range(len(reg_z)):\n",
    "        # Compute the value of (2^j * m) % N\n",
    "        m2jmodN = (2**j * m) % N\n",
    "        # Then we will \"write\" the value of m2jmodN into reg_a in order to add it to reg_b\n",
    "        # We only want to do this if the j-th bit of z is 1 ; if it is 0, it means we have nothing to add.\n",
    "        # Also, in any case we only perform these operations if q_ctrl is 1.\n",
    "        # For each qubit of the register a\n",
    "        for i in range(len(reg_a)):\n",
    "            # If the i-th bit if m2jmodN is 1, we want to flip the corresponding qubit of reg_a\n",
    "            if 2**i & m2jmodN:\n",
    "                # But only if both q_ctrl and the j-th qubit or reg_z are 1s, so we use a CCNOT operation\n",
    "                c.ccnot(q_ctrl, reg_z[j], reg_a[i])\n",
    "        # Then we perform the adder_modN operation so that reg_b = (reg_b + reg_a) % N\n",
    "        # So if the j-th bit of z is 1, reg_b = (reg_b + m2jmodN) % N\n",
    "        # else reg_b is unchanged (we add 0)\n",
    "        c.q_adder_modN(N, reg_a, reg_b, reg_c, reg_N, q_t)\n",
    "        # Revert reg_a to 0 by doing exactly the same operations used to set it to m2jmodN (in reverse order)\n",
    "        # For each qubit of the register a\n",
    "        for i in reversed(range(len(reg_a))):\n",
    "            # If the i-th bit if m2jmodN is 1, we want to flip the corresponding qubit of reg_a back to 0\n",
    "            if 2**i & m2jmodN:\n",
    "                # But only if both q_ctrl and the j-th qubit or reg_z are 1s, so we use a CCNOT operation\n",
    "                c.ccnot(q_ctrl, reg_z[j], reg_a[i])\n",
    "    \n",
    "    # At this point we are finished if q_ctrl is 1. In that case, reg_b = z * m % N which is what we want.\n",
    "    # But if q_ctrl was 0, then reg_b was left completly untouched and still contains 0\n",
    "    # We want it to contain z when q_ctrl is 0\n",
    "    # We flip q_ctrl, so if it was 0 it is now 1\n",
    "    c.x(q_ctrl)\n",
    "    # We perform CCNOT operations to flip qubits of reg_b corresponding to 1s in reg_z\n",
    "    # Essentialy copying whatever reg_z contains is reg_b, but only if q_ctrl is now 1 (meaning it was 0 at the begining of the computation)\n",
    "    for j in range(len(reg_z)):\n",
    "        c.ccnot(q_ctrl, reg_z[j], reg_b[j])\n",
    "    # We flip back q_ctrl, returning it to whatever value it had a the begining of the computation\n",
    "    c.x(q_ctrl)\n",
    "    \n",
    "    if reverse:\n",
    "        c = Circuit(reversed(c.instructions))\n",
    "    return c\n"
   ]
  },
  {
   "cell_type": "code",
   "execution_count": 17,
   "id": "d955e66a",
   "metadata": {},
   "outputs": [
    {
     "data": {
      "text/plain": [
       "'q_ctrl_mult_modN is inversible as expected'"
      ]
     },
     "metadata": {},
     "output_type": "display_data"
    }
   ],
   "source": [
    "# Test the reversibility\n",
    "\n",
    "n = 2\n",
    "N = 2**n-1\n",
    "q_ctrl = 0\n",
    "reg_z = [*range(1, 1 + n)]\n",
    "reg_a = [*range(1 + len(reg_z) + 0, 1 + len(reg_z) + n)]\n",
    "reg_b = [*range(1 + len(reg_z) + len(reg_a) + 0, 1 + len(reg_z) + len(reg_a) + n + 1)]\n",
    "reg_c = [*range(1 + len(reg_z) + len(reg_a) + len(reg_b) + 0, 1 + len(reg_z) + len(reg_a) + len(reg_b) + n)]\n",
    "reg_N = [*range(1 + len(reg_z) + len(reg_a) + len(reg_b) + len(reg_c) + 0, 1 + len(reg_z) + len(reg_a) + len(reg_b) + len(reg_c) + n)]\n",
    "q_t = 1 + len(reg_z) + len(reg_a) + len(reg_b) + len(reg_c) + len(reg_N)\n",
    "\n",
    "\n",
    "\n",
    "# For q_ctlt\n",
    "for ctlt in range(2):\n",
    "    # For all the possible values on 2 bits\n",
    "    for z in range(2**n):\n",
    "        c = Circuit()\n",
    "        # Init the 2 first qubits of the register\n",
    "        for i in range(n):\n",
    "            if 2**i & z:\n",
    "                c.x(reg_z[i])\n",
    "            if 2**i & N:\n",
    "                c.x(reg_N[i])\n",
    "        if ctlt > 0:\n",
    "            c.x(q_ctrl)\n",
    "\n",
    "        # Add our circuit, then its inverse\n",
    "        c.q_ctrl_mult_modN(N, 5, q_ctrl, reg_z, reg_a, reg_b, reg_c, reg_N, q_t)\n",
    "        c.q_ctrl_mult_modN(N, 5, q_ctrl, reg_z, reg_a, reg_b, reg_c, reg_N, q_t, True)\n",
    "        \n",
    "        # Now simulate the circuit 1000 times and retrieve the measures\n",
    "        measures = local_simulator.run(c, shots=1000).result().measurement_counts.keys()\n",
    "        # There should only be one result because this circuit should be completly deterministic\n",
    "        assert len(measures) == 1, f\"Expected only one result, got {len(measures)}: {measures}\"\n",
    "        for measure in measures:\n",
    "            # Verify the result is expected\n",
    "            result_ctl = int(''.join(reversed(measure[0])), 2)\n",
    "            result_z = int(''.join(reversed(measure[1:1+len(reg_z)])), 2)\n",
    "            result_a = int(''.join(reversed(measure[1+len(reg_z):1+len(reg_z)+len(reg_a)])), 2)\n",
    "            result_b = int(''.join(reversed(measure[1+len(reg_z)+len(reg_a):1+len(reg_z)+len(reg_a)+len(reg_b)])), 2)\n",
    "            result_c = int(''.join(reversed(measure[1+len(reg_z)+len(reg_a)+len(reg_b):1+len(reg_z)+len(reg_a)+len(reg_b)+len(reg_c)])), 2)\n",
    "            result_N = int(''.join(reversed(measure[1+len(reg_z)+len(reg_a)+len(reg_b)+len(reg_c):1+len(reg_z)+len(reg_a)+len(reg_b)+len(reg_c)+len(reg_N)])), 2)\n",
    "            result_t = int(''.join(reversed(measure[1+len(reg_z)+len(reg_a)+len(reg_b)+len(reg_c)+len(reg_N):])), 2)\n",
    "            # Verify that we obtain the correct result\n",
    "            assert result_ctl == ctlt, f\"{result_ctl} != {ctlt}\"\n",
    "            assert result_z == z, f\"{result_z} != {z}\"\n",
    "            assert result_a == 0, f\"{result_a} != 0\"\n",
    "            assert result_b == 0, f\"{result_b} != 0\"\n",
    "            assert result_c == 0, f\"{result_c} != 0\"\n",
    "            assert result_N == N, f\"{result_N} != {N}\"\n",
    "            assert result_t == 0, f\"{result_t} != 0\"\n",
    "display(\"q_ctrl_mult_modN is inversible as expected\")"
   ]
  },
  {
   "cell_type": "markdown",
   "id": "ddeeb62b",
   "metadata": {},
   "source": [
    "## Modular Exponentiation circuit\n",
    "At the begining, `reg_z = 1` and in the end `reg_z = y^x mod N`\n",
    "\n",
    "All the other registers are returned back to their original value, which is 0 expect for `reg_N = N` and `reg_x = x`"
   ]
  },
  {
   "cell_type": "code",
   "execution_count": 18,
   "id": "98f29045",
   "metadata": {
    "scrolled": false
   },
   "outputs": [],
   "source": [
    "@circuit.subroutine(register=True)\n",
    "def modular_exponentiation_ymodN(\n",
    "    N: int, y: int,\n",
    "    reg_x: QubitSetInput,\n",
    "    reg_z: QubitSetInput,\n",
    "    reg_a: QubitSetInput,\n",
    "    reg_b: QubitSetInput,\n",
    "    reg_c: QubitSetInput,\n",
    "    reg_N: QubitSetInput,\n",
    "    q_t: Qubit\n",
    ") -> Circuit:\n",
    "    \"\"\"\n",
    "    Construct a circuit object, that will become our generic Gate, taking 6 registers and 1 individual qubits: reg_x contains the number x,\n",
    "    reg_z contains initialy 1. We already encountered reg_a, reg_b, reg_c, reg_N and q_t, which will be used as expected\n",
    "    by the q_adder_modN sub-circuits composing the q_ctrl_mult_modN sub-circuit that we will use to construct this one.\n",
    "    Only reg_x, reg_z and reg_N are expected to be non-zero, all other registers are expected to be 0.\n",
    "    At the end of this circuit, reg_z contains (y^x) % N and is the only register changed by the computation.\n",
    "    Args:\n",
    "        N (int): The number N, used to hard-code some part of the circuit, in particular the q_adder_modN\n",
    "        y (int): The number y that we elevate to power x (contained in reg_x), used to hard-code some part\n",
    "            of the circuit\n",
    "        reg_x (QubitSetInput): Register of the number x, contains the integer x that is the power at which\n",
    "            we want to elevate y and will be left unchanged at the end of the computation\n",
    "        reg_z (QubitSetInput): Register of the number z, contains 1 initially and y^x at the end of the computation\n",
    "        reg_a (QubitSetInput): Register of the number a, expected to be |0> at the begining of the circuit \n",
    "            and will be left unchanged at the end of the computation\n",
    "        reg_b (QubitSetInput): Register of the number b, expected to be |0> at the begining of the circuit \n",
    "            and will be left unchanged at the end of the computation\n",
    "        reg_c (QubitSetInput): Register storing the carries of the addtion, expected to be |0> at the begining of the circuit \n",
    "            and will be left unchanged at the end of the computation\n",
    "        reg_N (QubitSetInput): Register storing the integer N for the modulo operation\n",
    "            and will be left unchanged at the end of the computation\n",
    "        q_t (Qubit): Control qubit used to verify the sign of a + b - N at some point of the q_adder_modN. Expected to be |0>\n",
    "            and will be left unchanged by the computation\n",
    "        reverse (bool): Create a reversed version of this circuit\n",
    "    Returns:\n",
    "        Circuit: Resulting circuit that can be used as a Gate in a more complex circuit\n",
    "    \"\"\"\n",
    "    assert len(reg_b) == len(reg_a) + 1\n",
    "    assert len(reg_c) == len(reg_a)\n",
    "    assert len(reg_N) == len(reg_a)\n",
    "    assert len(reg_z) == len(reg_a)\n",
    "    # No assertion is requiered for reg_x. Its length should be greater than 0, else this whole thing does not make any sense as the circuit will simply be empty\n",
    "    assert len(reg_x) > 0\n",
    "    \n",
    "    c = Circuit()\n",
    "\n",
    "    # We want to compute y^x % N, that is the modular exponentiation of y to the power of x.\n",
    "    # Then again, we could simply multiply reg_z (which is 1) by y x-time, but we will do better\n",
    "    # If x is a binary number xn...x2x1x0, then:\n",
    "    # y^x = y^(xn*2^n + ... + x2*2^2 + x1*2^1 + x0*2^0)\n",
    "    # And we know that y^(a + b) = y^a * y^b ; so\n",
    "    # y^x = y^(xn*2^n) *  ... * y^(x2*2^2) * y^(x1*2^1) * y^(x0*2^0)\n",
    "    # Therefore the exponantiation can be translated into a serie of multiplication:\n",
    "    # Starting from the initial value 1, we multiply successively by y^(xn*2^n), which is y^(2^n) if xn is 1, and 1 if xn = 0\n",
    "    #\n",
    "    # It should also be noted that (A * B) % N = ((A % N) * (B % N)) % N, therefore we can apply the modulo as we go for each operand and multiplication\n",
    "    # without changing the final result\n",
    "\n",
    "    # In the following loop, every operation is controlled by the i-th qubit of reg_x\n",
    "    # I explain what's going on assuming this i-th qubit is 1\n",
    "    # If it happens to be 0, the whole iteration does absolutly nothing so there is nothing to explain\n",
    "    # For each qubit index of the register x\n",
    "    for i in range(len(reg_x)):\n",
    "        # Compute m = y^(2^i)\n",
    "        m = y**(2**i)\n",
    "        # Performed a ctrl_mult_modN by m, controlled by the i-th qubit of x.\n",
    "        # Essentially we multiply by y^(2^i) if xi is 1, or we do nothing if xi is 0\n",
    "        c.q_ctrl_mult_modN(N, m, reg_x[i], reg_z, reg_a, reg_b, reg_c, reg_N, q_t)\n",
    "        # At this point, if xi is 1, reg_b contains (m * z) % N\n",
    "        # If xi is 1, we swap the content of reg_z and reg_b\n",
    "        # We do that with a controled-swap operation for each qubit of reg_z, controlled by xi\n",
    "        for j in range(len(reg_z)):\n",
    "            c.cswap(reg_x[i], reg_z[j], reg_b[j])\n",
    "        # If xi is 1, reg_z and reg_b are now inversed so we essentially saved the result (m * z) % N that was in reg_b into reg_z\n",
    "        # leaving reg_b with the initial value of reg_z from the previous iteration (or 1 if it is the first iteration)\n",
    "        # The goal here is to revert b to 0 so it is usable for the next iteration (the next q_ctrl_mult_modN)\n",
    "        # To do that we compute modular_inverse_of_m as the modular inverse of m modulo N\n",
    "        # By definition, (m * modular_inverse_of_m) % N = 1\n",
    "        modular_inverse_of_m = pow(m, -1, N)\n",
    "        # We use this modular_inverse_of_m to perform the reverse ctrl_mult_modN\n",
    "        c.q_ctrl_mult_modN(N, modular_inverse_of_m, reg_x[i], reg_z, reg_a, reg_b, reg_c, reg_N, q_t, True)\n",
    "        # Why does it work?\n",
    "        # For each iteration (assuming the i-th qubit of reg_x is 1 and we do something), here is what happens\n",
    "        # Initially we have:\n",
    "        #   reg_z = z\n",
    "        #   reg_b = 0\n",
    "        # After performing the q_ctrl_mult_modN multiplying by m:\n",
    "        #   reg_z = z\n",
    "        #   reg_b = (z * m) % N\n",
    "        # After swaping the registers z and b:\n",
    "        #   reg_z = (z * m) % N\n",
    "        #   reg_b = z\n",
    "        # We recognize that this is the situation we would have IF we had applied a q_ctrl_mult_modN using modular_inverse_of_m instead of m,\n",
    "        # because by definition:\n",
    "        # (((z * m) % N) * modular_inverse_of_m) % N = (z * (m * modular_inverse_of_m % N)) % N = (z * 1) % N = z\n",
    "        # Therefore performing reverse-q_ctrl_mult_modN with modular_inverse_of_m will set back reg_b to 0 (and left reg_z untouched, as usual)\n",
    "    \n",
    "    return c"
   ]
  },
  {
   "cell_type": "code",
   "execution_count": 19,
   "id": "ac071dc6",
   "metadata": {},
   "outputs": [
    {
     "data": {
      "text/plain": [
       "'There are 4 possible tests, taking at most 5 of them at random'"
      ]
     },
     "metadata": {},
     "output_type": "display_data"
    },
    {
     "data": {
      "text/plain": [
       "'Test #1 building Modular exponentiation for: (2^1) % 3'"
      ]
     },
     "metadata": {},
     "output_type": "display_data"
    },
    {
     "data": {
      "text/plain": [
       "'Running 1000 shots...'"
      ]
     },
     "metadata": {},
     "output_type": "display_data"
    },
    {
     "data": {
      "text/plain": [
       "'measure=10010000000110'"
      ]
     },
     "metadata": {},
     "output_type": "display_data"
    },
    {
     "data": {
      "text/plain": [
       "'(2^1) % 3 = 2'"
      ]
     },
     "metadata": {},
     "output_type": "display_data"
    },
    {
     "data": {
      "text/plain": [
       "''"
      ]
     },
     "metadata": {},
     "output_type": "display_data"
    },
    {
     "data": {
      "text/plain": [
       "'Test #2 building Modular exponentiation for: (2^0) % 3'"
      ]
     },
     "metadata": {},
     "output_type": "display_data"
    },
    {
     "data": {
      "text/plain": [
       "'Running 1000 shots...'"
      ]
     },
     "metadata": {},
     "output_type": "display_data"
    },
    {
     "data": {
      "text/plain": [
       "'measure=00100000000110'"
      ]
     },
     "metadata": {},
     "output_type": "display_data"
    },
    {
     "data": {
      "text/plain": [
       "'(2^0) % 3 = 1'"
      ]
     },
     "metadata": {},
     "output_type": "display_data"
    },
    {
     "data": {
      "text/plain": [
       "''"
      ]
     },
     "metadata": {},
     "output_type": "display_data"
    },
    {
     "data": {
      "text/plain": [
       "'Test #3 building Modular exponentiation for: (2^2) % 3'"
      ]
     },
     "metadata": {},
     "output_type": "display_data"
    },
    {
     "data": {
      "text/plain": [
       "'Running 1000 shots...'"
      ]
     },
     "metadata": {},
     "output_type": "display_data"
    },
    {
     "data": {
      "text/plain": [
       "'measure=01100000000110'"
      ]
     },
     "metadata": {},
     "output_type": "display_data"
    },
    {
     "data": {
      "text/plain": [
       "'(2^2) % 3 = 1'"
      ]
     },
     "metadata": {},
     "output_type": "display_data"
    },
    {
     "data": {
      "text/plain": [
       "''"
      ]
     },
     "metadata": {},
     "output_type": "display_data"
    },
    {
     "data": {
      "text/plain": [
       "'Test #4 building Modular exponentiation for: (2^3) % 3'"
      ]
     },
     "metadata": {},
     "output_type": "display_data"
    },
    {
     "data": {
      "text/plain": [
       "'Running 1000 shots...'"
      ]
     },
     "metadata": {},
     "output_type": "display_data"
    },
    {
     "data": {
      "text/plain": [
       "'measure=11010000000110'"
      ]
     },
     "metadata": {},
     "output_type": "display_data"
    },
    {
     "data": {
      "text/plain": [
       "'(2^3) % 3 = 2'"
      ]
     },
     "metadata": {},
     "output_type": "display_data"
    },
    {
     "data": {
      "text/plain": [
       "''"
      ]
     },
     "metadata": {},
     "output_type": "display_data"
    }
   ],
   "source": [
    "# Controls that the circuit is actually performing correctly for some possible values MOD N\n",
    "\n",
    "# Choose N\n",
    "# Carreful, the qubit count Q = 6n+2\n",
    "# And the complexity of simulating Quantum circuits is O(2^Q)\n",
    "# It goes up very, very quickly\n",
    "# Chosing N = 15 means n=4 and Q=26 qubits which means hours for EACH test loop iteration\n",
    "# With N = 3, n=2, Q=14, which should take few seconds\n",
    "N = 3\n",
    "MAX_TESTS=5\n",
    "# The base size n of the registers is the minimum number of bits required to represent N\n",
    "n = bit_size_of(N)\n",
    "# The register x can technically be any size we want, but for this test we will take a 2-sized register\n",
    "reg_x = [*range(2)]\n",
    "# Register for integer z, of size n\n",
    "# It follows the previous registers and therefore is offset by their cumulated lenght\n",
    "reg_z = [*range(len(reg_x) + 0, len(reg_x) + n)]\n",
    "# Register for integer a, of size n\n",
    "# It follows the previous registers and therefore is offset by their cumulated lenght\n",
    "reg_a = [*range(len(reg_x) + len(reg_z) + 0, len(reg_x) + len(reg_z) + n)]\n",
    "# Register for integer b, of size n + 1 because at some point it must hold a+b, which can be 1-bit longer than a and b\n",
    "# It follows the previous registers and therefore is offset by their cumulated lenght\n",
    "reg_b = [*range(len(reg_x) + len(reg_z) + len(reg_a) + 0, len(reg_x) + len(reg_z) + len(reg_a) + n + 1)]\n",
    "# Register for integer c, of size n\n",
    "# It follows the previous registers and therefore is offset by their cumulated lenght\n",
    "reg_c = [*range(len(reg_x) + len(reg_z) + len(reg_a) + len(reg_b) + 0, len(reg_x) + len(reg_z) + len(reg_a) + len(reg_b) + n)]\n",
    "# Register for integer N, of size n\n",
    "# It follows the previous registers and therefore is offset by their cumulated lenght\n",
    "reg_N = [*range(len(reg_x) + len(reg_z) + len(reg_a) + len(reg_b) + len(reg_c) + 0, len(reg_x) + len(reg_z) + len(reg_a) + len(reg_b) + len(reg_c) + n)]\n",
    "# Qubit q_t, which follows all the other registers so its number is simply the combined length of the 6 registers\n",
    "q_t = len(reg_x) + len(reg_z) + len(reg_a) + len(reg_b) + len(reg_c) + len(reg_N)\n",
    "\n",
    "# Test y^x mod N for various random values of x and y\n",
    "# Generate all the values of y so that y is prime with N, GCD(y,N)=1\n",
    "all_ys = [y for y in range(2, N) if math.gcd(y,N) == 1]\n",
    "# Multiply that with the possible value for x, taken between 1 and N included\n",
    "possible_tests = [(y, x) for x in range(2**len(reg_x)) for y in all_ys]\n",
    "display(f\"There are {len(possible_tests)} possible tests, taking at most {MAX_TESTS} of them at random\")\n",
    "tests = sample(possible_tests, min(len(possible_tests), MAX_TESTS))\n",
    "# Perform at most MAX_TESTS tests\n",
    "test_number=0\n",
    "for y, x in tests:\n",
    "    test_number+=1\n",
    "    display(f\"Test #{test_number} building Modular exponentiation for: ({y}^{x}) % {N}\")\n",
    "    # Create the circuit\n",
    "    c_modular_exponentiation_ymodN = Circuit()\n",
    "    # Set reg_z = 1\n",
    "    c_modular_exponentiation_ymodN.x(reg_z[0])\n",
    "    # Set reg_x = x, using the usual method\n",
    "    for i in range(n):\n",
    "        # If the i-th bit in the integer x is 1\n",
    "        if 2**i & x:\n",
    "            # Flip the corresponding qubit in reg_x with a not-gate (thus changing it from 0 (the default) to 1)\n",
    "            c_modular_exponentiation_ymodN.x(reg_x[i])\n",
    "        # If the i-th bit in the integer N is 1\n",
    "        if 2**i & N:\n",
    "            # Flip the corresponding qubit in reg_N with a not-gate (thus changing it from 0 (the default) to 1)\n",
    "            c_modular_exponentiation_ymodN.x(reg_N[i])\n",
    "    # Create the modular exponentiation\n",
    "    c_modular_exponentiation_ymodN.modular_exponentiation_ymodN(N, y, reg_x, reg_z, reg_a, reg_b, reg_c, reg_N, q_t)\n",
    "    display(f\"Running 1000 shots...\")\n",
    "    # Simulates 1000 shots\n",
    "    measures = local_simulator.run(c_modular_exponentiation_ymodN, shots=1000).result().measurement_counts.keys()\n",
    "    # There should only be one result because this circuit should be completly deterministic\n",
    "    assert len(measures) == 1, f\"Expected only one result, got {len(measures)}: {measures}\"\n",
    "    for measure in measures:\n",
    "        display(f\"measure={measure}\")\n",
    "        # Extract from the measurement the value of reg_z\n",
    "        result = int(''.join(reversed(measure[len(reg_x):len(reg_x) + len(reg_z)])), 2)\n",
    "        display(f\"({y}^{x}) % {N} = {result}\")\n",
    "        assert (y**x) % N == result, f\"({y}^{x}) % {N} = {(y**x) % N} not {result}\"\n",
    "    display(\"\")"
   ]
  },
  {
   "cell_type": "code",
   "execution_count": null,
   "id": "16f05a48",
   "metadata": {},
   "outputs": [],
   "source": [
    "EXAMPLE_N=21\n",
    "EXAMPLE_Y=5\n",
    "# The base size n of the registers is the minimum number of bits required to represent N\n",
    "n = bit_size_of(EXAMPLE_N)\n",
    "# The register x can technically be any size we want, but for this test we will take a n-sized register\n",
    "reg_x = [*range(n)]\n",
    "# Register for integer z, of size n\n",
    "# It follows the previous registers and therefore is offset by their cumulated lenght\n",
    "reg_z = [*range(len(reg_x) + 0, len(reg_x) + n)]\n",
    "# Register for integer a, of size n\n",
    "# It follows the previous registers and therefore is offset by their cumulated lenght\n",
    "reg_a = [*range(len(reg_x) + len(reg_z) + 0, len(reg_x) + len(reg_z) + n)]\n",
    "# Register for integer b, of size n + 1 because at some point it must hold a+b, which can be 1-bit longer than a and b\n",
    "# It follows the previous registers and therefore is offset by their cumulated lenght\n",
    "reg_b = [*range(len(reg_x) + len(reg_z) + len(reg_a) + 0, len(reg_x) + len(reg_z) + len(reg_a) + n + 1)]\n",
    "# Register for integer c, of size n\n",
    "# It follows the previous registers and therefore is offset by their cumulated lenght\n",
    "reg_c = [*range(len(reg_x) + len(reg_z) + len(reg_a) + len(reg_b) + 0, len(reg_x) + len(reg_z) + len(reg_a) + len(reg_b) + n)]\n",
    "# Register for integer N, of size n\n",
    "# It follows the previous registers and therefore is offset by their cumulated lenght\n",
    "reg_N = [*range(len(reg_x) + len(reg_z) + len(reg_a) + len(reg_b) + len(reg_c) + 0, len(reg_x) + len(reg_z) + len(reg_a) + len(reg_b) + len(reg_c) + n)]\n",
    "# Qubit q_t, which follows all the other registers so its number is simply the combined length of the 6 registers\n",
    "q_t = len(reg_x) + len(reg_z) + len(reg_a) + len(reg_b) + len(reg_c) + len(reg_N)\n",
    "display(f\"modular_exponentiation_ymodN(N={EXAMPLE_N}):\")\n",
    "display(braket_to_qiskit_circuit(modular_exponentiation_ymodN(EXAMPLE_N, EXAMPLE_Y, reg_x, reg_z, reg_a, reg_b, reg_c, reg_N, q_t), True).draw('mpl', fold=800, scale=0.6))"
   ]
  },
  {
   "cell_type": "markdown",
   "id": "ef76af07",
   "metadata": {},
   "source": [
    "# Create the Shor's circuit for a, N"
   ]
  },
  {
   "cell_type": "code",
   "execution_count": 21,
   "id": "e606a896",
   "metadata": {},
   "outputs": [],
   "source": [
    "def shors_algorithm(reg_x_size: int, integer_N: int, integer_a: int) -> Circuit:\n",
    "    \"\"\"\n",
    "    Creates the circuit for Shor's algorithm.\n",
    "      1) Setup auxiliary registers and apply modular exponentiation function\n",
    "      2) Apply inverse_QFT on counting qubits\n",
    "    Args:\n",
    "        reg_x_size (int) : The size of the register reg_x\n",
    "        integer_N (int) : The integer N to be factored\n",
    "        integer_a (int) : Any integer 'a' that satisfies 1 < a < N and gcd(a, N) = 1.\n",
    "    Returns:\n",
    "        Circuit: Circuit object that implements the Shor's algorithm\n",
    "    \"\"\"\n",
    "\n",
    "    # validate the inputs\n",
    "    if integer_N < 1 or integer_N % 2 == 0:\n",
    "        raise ValueError(\"The input N needs to be an odd integer greater than 1.\")\n",
    "    if integer_a <= 1 or integer_a >= integer_N or math.gcd(integer_a, integer_N) != 1:\n",
    "        raise ValueError('The integer \"a\" needs to satisfy 1 < a < N and gcd(a, N) = 1.')\n",
    "\n",
    "    # calculate n, the number of qubits needed to store N\n",
    "    n = bit_size_of(integer_N)\n",
    "\n",
    "    # The register x can technically be any size we want,\n",
    "    # but in order to obtain sufficient precision for recovering the order of integer_a, we need x to be at least of size 2n+1\n",
    "    # \n",
    "    # integer_a is part of ZN-star, which are the numbers a in {0, 1, ..., N-1} so that gcd(a, N) = 1,\n",
    "    # so there must exist r, such that integer_a^r = 1 % N ; r is called the order of integer_a\n",
    "    # We want to retrieve it because it can allow us to factor N, given some additionnal conditions (see further)\n",
    "    reg_x = [*range(reg_x_size)]\n",
    "    # Register for integer z, of size n\n",
    "    # It follows the previous registers and therefore is offset by their cumulated lenght\n",
    "    reg_z = [*range(len(reg_x) + 0, len(reg_x) + n)]\n",
    "    # Register for integer a, of size n\n",
    "    # It follows the previous registers and therefore is offset by their cumulated lenght\n",
    "    reg_a = [*range(len(reg_x) + len(reg_z) + 0, len(reg_x) + len(reg_z) + n)]\n",
    "    # Register for integer b, of size n + 1 because at some point it must hold a+b, which can be 1-bit longer than a and b\n",
    "    # It follows the previous registers and therefore is offset by their cumulated lenght\n",
    "    reg_b = [*range(len(reg_x) + len(reg_z) + len(reg_a) + 0, len(reg_x) + len(reg_z) + len(reg_a) + n + 1)]\n",
    "    # Register for integer c, of size n\n",
    "    # It follows the previous registers and therefore is offset by their cumulated lenght\n",
    "    reg_c = [*range(len(reg_x) + len(reg_z) + len(reg_a) + len(reg_b) + 0, len(reg_x) + len(reg_z) + len(reg_a) + len(reg_b) + n)]\n",
    "    # Register for integer N, of size n\n",
    "    # It follows the previous registers and therefore is offset by their cumulated lenght\n",
    "    reg_N = [*range(len(reg_x) + len(reg_z) + len(reg_a) + len(reg_b) + len(reg_c) + 0, len(reg_x) + len(reg_z) + len(reg_a) + len(reg_b) + len(reg_c) + n)]\n",
    "    # Qubit q_t, which follows all the other registers so its number is simply the combined length of the 6 registers\n",
    "    q_t = len(reg_x) + len(reg_z) + len(reg_a) + len(reg_b) + len(reg_c) + len(reg_N)\n",
    "    \n",
    "\n",
    "    # Create a circuit\n",
    "    shors_circuit = Circuit()\n",
    "\n",
    "    # Initialize registers\n",
    "    # All qubits in register reg_x are put in superposition by Hadamar\n",
    "    # Essentially it can be intuited as making the circuit compute a^x % N for every possible value of x simultaneously\n",
    "    # Which is the basic advantage of quantum computing, and the central one for Shor's algorithm\n",
    "    shors_circuit.h(reg_x)\n",
    "    \n",
    "    # Register z is initialized to |1>\n",
    "    shors_circuit.x(reg_z[0])\n",
    "\n",
    "    # Register N is initialized to |N>\n",
    "    for i in range(len(reg_N)):\n",
    "        if 2**i & integer_N:\n",
    "            shors_circuit.x(reg_N[i])\n",
    "\n",
    "    # We apply the modular exponentiation a^x ; with x being in superposition\n",
    "    shors_circuit.modular_exponentiation_ymodN(integer_N, integer_a, reg_x, reg_z, reg_a, reg_b, reg_c, reg_N, q_t)\n",
    "    # This will kickback the phase of the multiplication by a into x, thus allowing us to retrieve an estimation of this phase\n",
    "    # Apply inverse QFT on x to retrieve an estimation of the phase\n",
    "    shors_circuit.qft(reg_x, reverse=True)\n",
    "    # Now reg_x contains |y> with y/2^size_of(x) = j/r for some unknown j. Recall that r is the order of integer_a modulo N, which is what we are looking for\n",
    "    # For more details, you need to explore very precisely how Shor's algorythm works. It's not easy.\n",
    "    # But the number theory connecting r to the factors of N is pretty easy to understand.\n",
    "\n",
    "    return shors_circuit\n"
   ]
  },
  {
   "cell_type": "markdown",
   "id": "b3c5c025",
   "metadata": {},
   "source": [
    "# Create a bunch of helper functions\n",
    "\n",
    "Like a function to run a `circuit` on a `device`, computing the values for `j/r` and trying to recover `r`, and so on and so forth"
   ]
  },
  {
   "cell_type": "code",
   "execution_count": 22,
   "id": "91adfc1b",
   "metadata": {},
   "outputs": [],
   "source": [
    "def run_shors_circuit(\n",
    "    circuit: Circuit,\n",
    "    device: Device,\n",
    "    shots: Optional[int] = 1000,\n",
    ") -> Dict[str, int]:\n",
    "    \"\"\"\n",
    "    Function to run Shor's algorithm and return measurement counts.\n",
    "    Args:\n",
    "        circuit (Circuit): Shor's algorithm circuit\n",
    "        device (Device): Braket device backend\n",
    "        shots (Optional[int]) : Number of measurement shots (default is 1000).\n",
    "            0 shots results in no measurement.\n",
    "    Returns:\n",
    "        Dict[str, Any]: measurements and results from running Shors's algorithm\n",
    "    \"\"\"\n",
    "\n",
    "    task = device.run(circuit, shots=shots)\n",
    "\n",
    "    while task.state() != 'COMPLETED':\n",
    "        sleep(5)\n",
    "        \n",
    "    result = task.result()\n",
    "\n",
    "    measurement_counts = result.measurement_counts\n",
    "    measurement_counts = {\n",
    "        key: measurement_counts[key]\n",
    "        for key in sorted(\n",
    "            list(measurement_counts.keys()),\n",
    "            key=lambda o:measurement_counts[o],\n",
    "            reverse=True\n",
    "        )\n",
    "    }\n",
    "\n",
    "    return measurement_counts\n",
    "\n",
    "def split_registers(\n",
    "    results: Dict[str, int],\n",
    "    reg_x_size: int,\n",
    "    n: int,\n",
    ") -> List[Dict[str, Any]]:\n",
    "    \"\"\"\n",
    "    Function to postprocess dictionary returned by run_shors_algorithm\n",
    "        and recover the content of each register\n",
    "    Args:\n",
    "        results (Dict[str, int]): Measurement produced by run_shors_algorithm\n",
    "        reg_x_size (int): the number of qubits of reg_x\n",
    "        n (int) : the number of qubits of the other registers (except reg_b that we know will have size n+1)\n",
    "    Returns:\n",
    "        Dict[int, Dict[str, str]] : \n",
    "    \"\"\"\n",
    "    result_splitted = [\n",
    "        {\n",
    "            'reg_x': key[:reg_x_size],\n",
    "            'reg_z': key[reg_x_size:reg_x_size+n],\n",
    "            'reg_a': key[reg_x_size+n:reg_x_size+2*n],\n",
    "            'reg_b': key[reg_x_size+2*n:reg_x_size+3*n+1],\n",
    "            'reg_c': key[reg_x_size+3*n+1:reg_x_size+4*n+1],\n",
    "            'reg_N': key[reg_x_size+4*n+1:reg_x_size+5*n+1],\n",
    "            'q_t': key[reg_x_size+5*n+1:],\n",
    "            'count': count\n",
    "        }    \n",
    "        for key, count in results.items()\n",
    "    ]\n",
    "    \n",
    "    return result_splitted\n",
    "\n",
    "def get_phases(reg_x_counts: Dict[str, int]) -> List[float]:\n",
    "    \"\"\"\n",
    "    Get phase estimate from measurement_counts using reg_x qubits\n",
    "    Args:\n",
    "        reg_x_counts (Dict[str, int]) : reg_x values with the number of time they occured\n",
    "    Returns:\n",
    "        List[float] : Phase estimates, ordered by likelihood\n",
    "    \"\"\"\n",
    "    \n",
    "    # Reg_x all has the same size\n",
    "    k_sizes = [len(k) for k in reg_x_counts.keys()]\n",
    "    assert min(k_sizes) == max(k_sizes)\n",
    "\n",
    "    phase_precision = 2**min(k_sizes)\n",
    "    # Each phase estimate is reg_x / 2^reg_x_size\n",
    "    phases_decimals = [\n",
    "        (int(''.join(reversed(item)), 2) / phase_precision, reg_x_counts[item])\n",
    "        for item in sorted(\n",
    "            list(reg_x_counts.keys()),\n",
    "            key=lambda o:reg_x_counts[o],\n",
    "            reverse=True\n",
    "        )\n",
    "    ]\n",
    "    display(f\"[{datetime.now()}] phases_decimals={phases_decimals}\")\n",
    "\n",
    "    return phases_decimals\n",
    "\n",
    "def get_factors_from_results(\n",
    "    splitted_results: List[Dict[str, Any]],\n",
    "    integer_N: int,\n",
    "    integer_a: int,\n",
    ") -> List[int]:\n",
    "    \"\"\"\n",
    "    Function to postprocess dictionary returned by run_shors_algorithm\n",
    "        and pretty print results\n",
    "    Args:\n",
    "        splitted_results (List[Dict[str, Any]]): Measurement produced by run_shors_algorithm and post-processed\n",
    "        reg_x_size (int): the number of qubits of reg_x\n",
    "        integer_N (int) : The integer to be factored\n",
    "        integer_a (int) : Any integer that satisfies 1 < a < N and gcd(a, N) = 1.\n",
    "        verbose (bool) : If True, prints aggregate results (default is False)\n",
    "    Returns:\n",
    "        Dict[str, Any]: Factors of the integer N\n",
    "    \"\"\"\n",
    "\n",
    "    # Agglomerate reg_x\n",
    "    reg_x_counts = {}\n",
    "    for splitted_result in splitted_results:\n",
    "        k = splitted_result['reg_x']\n",
    "        reg_x_counts[k] = reg_x_counts.get(k, 0) + splitted_result['count']\n",
    "    \n",
    "    # get phases\n",
    "    phases_decimals = get_phases(reg_x_counts)\n",
    "    # r values\n",
    "    r_values = {}\n",
    "    for phase, count in phases_decimals:\n",
    "        # Each phase yield by the Shor algorithm is phase = j/r ; with j an unknown random value and r the number we are looking for (order of a modulo N)\n",
    "        # We find the best fraction u/v that approximate the phase using the continued fraction algorithm\n",
    "        # There is good chances that u/v = j/r ; but it could happen that j and r share factors so in that case u != j and v != r.\n",
    "        #\n",
    "        # For example, imagine the correct r is r = 4.\n",
    "        # If we happen to retrieve the phase for a value j=2, then we have phase = 0.5 and the continued fraction algorithm\n",
    "        # will yield 1/2. We will register 2 as our r candidate, which is wrong.\n",
    "        # On the other hand, if we happen to retrieve the phase for a value j=3, then we have phase = 0.75 and the continued fraction algorithm will\n",
    "        # yield 3/4. We will then register 4 as our r candidate, which is right.\n",
    "        # It also would work if we retrieve the phase for j=1\n",
    "        # If we are unlucky and retrieve phase = 0 (for j=0), we do not learn anything because r can have any value in that case: 0 / r = 0, no matter the value of r.\n",
    "        r = (Fraction(phase).limit_denominator(integer_N)).denominator\n",
    "        # Accumulate the counts\n",
    "        r_values[r] = r_values.get(r, 0) + count\n",
    "    r_values_list = [\n",
    "        r\n",
    "        for r in sorted(\n",
    "            list(r_values.keys()),\n",
    "            key=lambda o:r_values[o],\n",
    "            reverse=True\n",
    "        )\n",
    "    ]\n",
    "    \n",
    "    factors = []\n",
    "    for r in r_values_list:\n",
    "        display(f\"[{datetime.now()}] r = {r} (count={r_values[r]})\")\n",
    "        if integer_a**r % integer_N != 1:\n",
    "            display(f\"[{datetime.now()}] a**r % N != 1. r is not the order of a modulo N :'( Skipping to the next r candidate discovered\")\n",
    "            continue\n",
    "        if r % 2 != 0:\n",
    "            display(f\"[{datetime.now()}] r is odd :'( Skipping to the next r candidate discovered\")\n",
    "            continue\n",
    "        f = [\n",
    "            math.gcd(integer_a ** (r // 2) - 1, integer_N),\n",
    "            math.gcd(integer_a ** (r // 2) + 1, integer_N),\n",
    "        ]\n",
    "        display(f\"[{datetime.now()}] factors discovered with this r: {f}\")\n",
    "        factors.append(f[0])\n",
    "        factors.append(f[1])\n",
    "    # Create a set of unique factors\n",
    "    factors_set = set(factors)\n",
    "    # Discard trivial factors\n",
    "    factors_set.discard(1)\n",
    "    factors_set.discard(integer_N)\n",
    "    # Retrun what we are left with\n",
    "    return list(factors_set)\n",
    "\n",
    "def run_shors_algo(integer_N: int, device: Device) -> tuple[int, int]:\n",
    "    \"\"\"\n",
    "    Find the factors of integer_N using device to run the Quantum Circuit\n",
    "    Args:\n",
    "        integer_N (int) : The integer to be factored\n",
    "        device (Device): Braket device backend\n",
    "    Returns:\n",
    "        (int, int): returns p and q such as p * q = N\n",
    "    \"\"\"\n",
    "    # Find a random a such as 1 < a < N and a is coprime with N (meaning that a belong in the set ZN-star)\n",
    "    integer_a = randint(2, integer_N - 1)\n",
    "    display(f\"[{datetime.now()}] a = {integer_a}\")\n",
    "    \n",
    "    # If a is not co-prime with N, it means that a is a factor of either p or q because N = p * q with p and q being primes\n",
    "    # therefore we already won!\n",
    "    # Of course, in real life with log2(N)>1024, there is absolutely NO CHANCE to stubble on the solution like that\n",
    "    gcd_aN = math.gcd(integer_a, integer_N)\n",
    "    if gcd_aN != 1:\n",
    "        # We cannot believe our luck, we found either p or q\n",
    "        p = gcd_aN\n",
    "        q = integer_N//p\n",
    "        display(f\"[{datetime.now()}] How lucky !! {integer_N} = {p} * {q}\")\n",
    "        return (p, q)\n",
    "    \n",
    "    # This security is only do-able if N is small\n",
    "    # It is not an official part of Shor's procedure for fartorization\n",
    "    # Nonetheless, around 50% of the a you choose will be worthless\n",
    "    # So with small N, we verify which a are usefull and wich ones are not in order to avoid useless simulations\n",
    "    if integer_N < 512:\n",
    "        # Because the simulation is expensive, we will cheat and eliminate values of a that we KNOW cannot work\n",
    "        # as we are using small integers for demonstration, we can of course trivially compute all the possible outcomes\n",
    "        ZNstar = [a for a in range(2, integer_N) if math.gcd(a, integer_N) == 1]\n",
    "        excluded_a_order_odd = []\n",
    "        excluded_a_trivial_factors = []\n",
    "        for a in ZNstar:\n",
    "            # Find the order of a modulo N\n",
    "            r = 1\n",
    "            while a**r % integer_N != 1:\n",
    "                r += 1\n",
    "            # If r is not even, it will be unusable\n",
    "            if r % 2 != 0:\n",
    "                excluded_a_order_odd.append(a)\n",
    "                continue\n",
    "            # If r is even, it can happen that it yields only trivial factors\n",
    "            factors = [\n",
    "                math.gcd(a**(r // 2) - 1, integer_N),\n",
    "                math.gcd(a**(r // 2) + 1, integer_N),\n",
    "            ]\n",
    "            factors_set = set(factors)\n",
    "            # Discard trivial factors\n",
    "            factors_set.discard(1)\n",
    "            factors_set.discard(integer_N)\n",
    "            if len(factors_set) == 0:\n",
    "                excluded_a_trivial_factors.append(a)\n",
    "\n",
    "        display(f\"[{datetime.now()}] For N={integer_N}, ZNstar={ZNstar}\")\n",
    "        display(f\"[{datetime.now()}] For N={integer_N}, values of a in ZNstar that cannot work because their order is odd: {excluded_a_order_odd}\")\n",
    "        display(f\"[{datetime.now()}] For N={integer_N}, values of a in ZNstar that cannot work because their order yield trivial factors: {excluded_a_trivial_factors}\")\n",
    "        display(f\"[{datetime.now()}] For N={integer_N}, values of a that will work: {[a for a in ZNstar if a not in excluded_a_order_odd and a not in excluded_a_trivial_factors]}\")\n",
    "\n",
    "        if integer_a in excluded_a_order_odd:\n",
    "            display(f\"[{datetime.now()}] Discarding a={integer_a} because we know it will be a waste of time. Its order is odd. Try again!\")\n",
    "            return None\n",
    "        if integer_a in excluded_a_trivial_factors:\n",
    "            display(f\"[{datetime.now()}] Discarding a={integer_a} because we know it will be a waste of time. Its order yields only trivial factors. Try again!\")\n",
    "            return None\n",
    "\n",
    "    # Create the circuit\n",
    "    # reg_x_size will be the 2*n+1, with n the minimum number of bits requiered to encode N\n",
    "    n = bit_size_of(integer_N)\n",
    "    reg_x_size = n * 2\n",
    "    shors_circuit = shors_algorithm(reg_x_size, integer_N, integer_a)\n",
    "    display(f\"[{datetime.now()}] circuit_qubit_count = {shors_circuit.qubit_count}\")\n",
    "    display(f\"[{datetime.now()}] circuit_depth = {shors_circuit.depth}\")\n",
    "\n",
    "    # If the circuit is too big, don't try to run it\n",
    "    if shors_circuit.qubit_count >= 31:\n",
    "        display(f\"[{datetime.now()}] Qubit count is too high for a simulation\")\n",
    "        return None\n",
    "\n",
    "    # Run the circuit\n",
    "    results = run_shors_circuit(shors_circuit, device, 1000)\n",
    "    display(f\"[{datetime.now()}] results_from_shor = {results}\")\n",
    "    splitted_results = split_registers(results, reg_x_size, n)\n",
    "    display(f\"[{datetime.now()}] splitted_results_from_shor = {splitted_results}\")\n",
    "    # Go see comments in this fonction to better grasp the principle of Shor algo\n",
    "    factors = get_factors_from_results(splitted_results, integer_N, integer_a)\n",
    "    display(f\"[{datetime.now()}] factors_from_shor = {factors}\")\n",
    "    if len(factors) == 2:\n",
    "        p, q = factors\n",
    "    elif len(factors) == 1:\n",
    "        p = factors[0]\n",
    "        q = integer_N//p\n",
    "    else:\n",
    "        display(f\"[{datetime.now()}] Failed to found factors, try again!\")\n",
    "        return None\n",
    "    \n",
    "    display(f\"[{datetime.now()}] {integer_N} = {p} * {q}\")\n",
    "    return (p, q)"
   ]
  },
  {
   "cell_type": "markdown",
   "id": "ecf3de8d",
   "metadata": {},
   "source": [
    "# Generate a list of possible N to factor"
   ]
  },
  {
   "cell_type": "code",
   "execution_count": 23,
   "id": "d4207be6",
   "metadata": {},
   "outputs": [
    {
     "name": "stdout",
     "output_type": "stream",
     "text": [
      "[15]\n"
     ]
    }
   ],
   "source": [
    "# Maximum bitsize of N\n",
    "# The circuit will have 7n+2 qubits so 4 is the limit of what is classically computable with modest resources\n",
    "MAX_SIZE_OF_N = 4\n",
    "\n",
    "# Find all primes up to 1000\n",
    "primes = []\n",
    "for p in range(3, 1000, 2):\n",
    "    p_is_prime = True\n",
    "    sqrt_p = int(math.sqrt(p)) + 1\n",
    "    for q in primes:\n",
    "        if q > sqrt_p:\n",
    "            break\n",
    "        if p % q == 0:\n",
    "            p_is_prime = False\n",
    "            break\n",
    "    if p_is_prime:\n",
    "        primes.append(p)\n",
    "\n",
    "# Find the upper bound of N so that its bit-size stays under or equal MAX_SIZE_OF_N\n",
    "max_N=2**MAX_SIZE_OF_N-1\n",
    "# Get all the N you could try to factor by multiplying 2 primes and taking all the results under max_N (and that are not squares)\n",
    "possible_N = sorted(list(set([p * q for p in primes for q in primes if p != q and p * q <= max_N])))\n",
    "\n",
    "print(possible_N)"
   ]
  },
  {
   "cell_type": "markdown",
   "id": "1997c342",
   "metadata": {},
   "source": [
    "# Run Shor's algorithm on LocalBackend\n",
    "\n",
    "It will cost nothing to do so and you can reasonnably do it for N = 15 if you reduce the size of x to n instead of 2n. You will get less impressive results of course, and it will still take hours on a laptop.\n",
    "\n",
    "If you want to try to factor bigger numbers, you need a really beefy computer or a super-computer."
   ]
  },
  {
   "cell_type": "code",
   "execution_count": 24,
   "id": "9dd20a10",
   "metadata": {
    "scrolled": true
   },
   "outputs": [],
   "source": [
    "# Factor 15 on LocalSimulator\n",
    "N = 15\n",
    "# run_shors_algo(N, local_simulator)"
   ]
  },
  {
   "cell_type": "markdown",
   "id": "465c337f",
   "metadata": {},
   "source": [
    "# Run Shor's algorithm on an AWS simulator\n",
    "\n",
    "It will COST $0.075/minute to do so and you can do it for N so that size_of(N) <= 4 (which means a circuit of 30 qubits max). Simulating a 30qubits circuit on SV1 take ~15minutes.\n",
    "\n",
    "I'm not aware of an affordable solution allowing to compute Shor for bigger N with this unoptimized algorithm."
   ]
  },
  {
   "cell_type": "code",
   "execution_count": 25,
   "id": "4a1f1dea",
   "metadata": {},
   "outputs": [
    {
     "data": {
      "text/plain": [
       "'[2023-11-16 10:05:01.362675] a = 4'"
      ]
     },
     "metadata": {},
     "output_type": "display_data"
    },
    {
     "data": {
      "text/plain": [
       "'[2023-11-16 10:05:01.363894] For N=15, ZNstar=[2, 4, 7, 8, 11, 13, 14]'"
      ]
     },
     "metadata": {},
     "output_type": "display_data"
    },
    {
     "data": {
      "text/plain": [
       "'[2023-11-16 10:05:01.364902] For N=15, values of a in ZNstar that cannot work because their order is odd: []'"
      ]
     },
     "metadata": {},
     "output_type": "display_data"
    },
    {
     "data": {
      "text/plain": [
       "'[2023-11-16 10:05:01.365900] For N=15, values of a in ZNstar that cannot work because their order yield trivial factors: [14]'"
      ]
     },
     "metadata": {},
     "output_type": "display_data"
    },
    {
     "data": {
      "text/plain": [
       "'[2023-11-16 10:05:01.366895] For N=15, values of a that will work: [2, 4, 7, 8, 11, 13]'"
      ]
     },
     "metadata": {},
     "output_type": "display_data"
    },
    {
     "data": {
      "text/plain": [
       "'[2023-11-16 10:05:03.408028] circuit_qubit_count = 30'"
      ]
     },
     "metadata": {},
     "output_type": "display_data"
    },
    {
     "data": {
      "text/plain": [
       "'[2023-11-16 10:05:03.408953] circuit_depth = 7886'"
      ]
     },
     "metadata": {},
     "output_type": "display_data"
    },
    {
     "data": {
      "text/plain": [
       "\"[2023-11-16 10:20:02.512553] results_from_shor = {'000000000010000000000000011110': 270, '000000010010000000000000011110': 258, '000000011000000000000000011110': 243, '000000001000000000000000011110': 229}\""
      ]
     },
     "metadata": {},
     "output_type": "display_data"
    },
    {
     "data": {
      "text/plain": [
       "\"[2023-11-16 10:20:02.514543] splitted_results_from_shor = [{'reg_x': '00000000', 'reg_z': '0010', 'reg_a': '0000', 'reg_b': '00000', 'reg_c': '0000', 'reg_N': '1111', 'q_t': '0', 'count': 270}, {'reg_x': '00000001', 'reg_z': '0010', 'reg_a': '0000', 'reg_b': '00000', 'reg_c': '0000', 'reg_N': '1111', 'q_t': '0', 'count': 258}, {'reg_x': '00000001', 'reg_z': '1000', 'reg_a': '0000', 'reg_b': '00000', 'reg_c': '0000', 'reg_N': '1111', 'q_t': '0', 'count': 243}, {'reg_x': '00000000', 'reg_z': '1000', 'reg_a': '0000', 'reg_b': '00000', 'reg_c': '0000', 'reg_N': '1111', 'q_t': '0', 'count': 229}]\""
      ]
     },
     "metadata": {},
     "output_type": "display_data"
    },
    {
     "data": {
      "text/plain": [
       "'[2023-11-16 10:20:02.515325] phases_decimals=[(0.5, 501), (0.0, 499)]'"
      ]
     },
     "metadata": {},
     "output_type": "display_data"
    },
    {
     "data": {
      "text/plain": [
       "'[2023-11-16 10:20:02.517331] r = 2 (count=501)'"
      ]
     },
     "metadata": {},
     "output_type": "display_data"
    },
    {
     "data": {
      "text/plain": [
       "'[2023-11-16 10:20:02.518326] factors discovered with this r: [3, 5]'"
      ]
     },
     "metadata": {},
     "output_type": "display_data"
    },
    {
     "data": {
      "text/plain": [
       "'[2023-11-16 10:20:02.519322] r = 1 (count=499)'"
      ]
     },
     "metadata": {},
     "output_type": "display_data"
    },
    {
     "data": {
      "text/plain": [
       "\"[2023-11-16 10:20:02.520320] a**r % N != 1. r is not the order of a modulo N :'( Skipping to the next r candidate discovered\""
      ]
     },
     "metadata": {},
     "output_type": "display_data"
    },
    {
     "data": {
      "text/plain": [
       "'[2023-11-16 10:20:02.521316] factors_from_shor = [3, 5]'"
      ]
     },
     "metadata": {},
     "output_type": "display_data"
    },
    {
     "data": {
      "text/plain": [
       "'[2023-11-16 10:20:02.522313] 15 = 3 * 5'"
      ]
     },
     "metadata": {},
     "output_type": "display_data"
    },
    {
     "data": {
      "text/plain": [
       "(3, 5)"
      ]
     },
     "execution_count": 25,
     "metadata": {},
     "output_type": "execute_result"
    }
   ],
   "source": [
    "import os\n",
    "os.environ[\"AWS_ACCESS_KEY_ID\"]=\"\"\n",
    "os.environ[\"AWS_SECRET_ACCESS_KEY\"]=\"\"\n",
    "os.environ[\"AWS_SESSION_TOKEN\"]=\"\"\n",
    "os.environ[\"AWS_REGION\"]=\"us-east-1\"\n",
    "\n",
    "sv1_simulator = AwsDevice('arn:aws:braket:::device/quantum-simulator/amazon/sv1')\n",
    "\n",
    "# Factor 15 on AWS SV1 simulator\n",
    "N = 15\n",
    "run_shors_algo(N, sv1_simulator)"
   ]
  }
 ],
 "metadata": {
  "celltoolbar": "Raw Cell Format",
  "kernelspec": {
   "display_name": "Python 3 (ipykernel)",
   "language": "python",
   "name": "python3"
  },
  "language_info": {
   "codemirror_mode": {
    "name": "ipython",
    "version": 3
   },
   "file_extension": ".py",
   "mimetype": "text/x-python",
   "name": "python",
   "nbconvert_exporter": "python",
   "pygments_lexer": "ipython3",
   "version": "3.9.13"
  }
 },
 "nbformat": 4,
 "nbformat_minor": 5
}
